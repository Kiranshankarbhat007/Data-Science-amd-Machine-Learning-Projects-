{
  "nbformat": 4,
  "nbformat_minor": 0,
  "metadata": {
    "colab": {
      "name": "Churn_modeling .ipynb",
      "provenance": [],
      "collapsed_sections": [],
      "mount_file_id": "1UgtdGIUKRh7CvFbCjCQREw7Pdx6Jvkg6",
      "authorship_tag": "ABX9TyN/9AKzZEsY5c/uZ5mTk87S",
      "include_colab_link": true
    },
    "kernelspec": {
      "name": "python3",
      "display_name": "Python 3"
    },
    "language_info": {
      "name": "python"
    }
  },
  "cells": [
    {
      "cell_type": "markdown",
      "metadata": {
        "id": "view-in-github",
        "colab_type": "text"
      },
      "source": [
        "<a href=\"https://colab.research.google.com/github/Kiranshankarbhat007/Data-Science-and-ML-Projects-/blob/master/Churn_modeling_ANN_Model_.ipynb\" target=\"_parent\"><img src=\"https://colab.research.google.com/assets/colab-badge.svg\" alt=\"Open In Colab\"/></a>"
      ]
    },
    {
      "cell_type": "markdown",
      "metadata": {
        "id": "vRdKTD_PuMI9"
      },
      "source": [
        "We are crreating a ANN model to predict whether a coustemer of a bank will exit the bank or not in the future."
      ]
    },
    {
      "cell_type": "code",
      "metadata": {
        "id": "uBGN-bYKY9fo"
      },
      "source": [
        "import pandas as pd\n",
        "import numpy as np\n",
        "import matplotlib.pyplot as plt"
      ],
      "execution_count": 148,
      "outputs": []
    },
    {
      "cell_type": "code",
      "metadata": {
        "colab": {
          "base_uri": "https://localhost:8080/"
        },
        "id": "57Icul1FZT2h",
        "outputId": "3e170a05-ec8d-4064-fb5b-19b686d98be7"
      },
      "source": [
        "from google.colab import drive\n",
        "drive.mount('/content/drive')"
      ],
      "execution_count": 110,
      "outputs": [
        {
          "output_type": "stream",
          "text": [
            "Drive already mounted at /content/drive; to attempt to forcibly remount, call drive.mount(\"/content/drive\", force_remount=True).\n"
          ],
          "name": "stdout"
        }
      ]
    },
    {
      "cell_type": "code",
      "metadata": {
        "id": "CCDMGI38Z8dr"
      },
      "source": [
        "data = pd.read_csv('/content/drive/MyDrive/Churn_Modelling.csv')"
      ],
      "execution_count": 111,
      "outputs": []
    },
    {
      "cell_type": "code",
      "metadata": {
        "colab": {
          "base_uri": "https://localhost:8080/",
          "height": 226
        },
        "id": "GP3y37SoaAvD",
        "outputId": "d88d27d8-8b84-4bf8-c066-0415362cd256"
      },
      "source": [
        "data.head()"
      ],
      "execution_count": 112,
      "outputs": [
        {
          "output_type": "execute_result",
          "data": {
            "text/html": [
              "<div>\n",
              "<style scoped>\n",
              "    .dataframe tbody tr th:only-of-type {\n",
              "        vertical-align: middle;\n",
              "    }\n",
              "\n",
              "    .dataframe tbody tr th {\n",
              "        vertical-align: top;\n",
              "    }\n",
              "\n",
              "    .dataframe thead th {\n",
              "        text-align: right;\n",
              "    }\n",
              "</style>\n",
              "<table border=\"1\" class=\"dataframe\">\n",
              "  <thead>\n",
              "    <tr style=\"text-align: right;\">\n",
              "      <th></th>\n",
              "      <th>RowNumber</th>\n",
              "      <th>CustomerId</th>\n",
              "      <th>Surname</th>\n",
              "      <th>CreditScore</th>\n",
              "      <th>Geography</th>\n",
              "      <th>Gender</th>\n",
              "      <th>Age</th>\n",
              "      <th>Tenure</th>\n",
              "      <th>Balance</th>\n",
              "      <th>NumOfProducts</th>\n",
              "      <th>HasCrCard</th>\n",
              "      <th>IsActiveMember</th>\n",
              "      <th>EstimatedSalary</th>\n",
              "      <th>Exited</th>\n",
              "    </tr>\n",
              "  </thead>\n",
              "  <tbody>\n",
              "    <tr>\n",
              "      <th>0</th>\n",
              "      <td>1</td>\n",
              "      <td>15634602</td>\n",
              "      <td>Hargrave</td>\n",
              "      <td>619</td>\n",
              "      <td>France</td>\n",
              "      <td>Female</td>\n",
              "      <td>42</td>\n",
              "      <td>2</td>\n",
              "      <td>0.00</td>\n",
              "      <td>1</td>\n",
              "      <td>1</td>\n",
              "      <td>1</td>\n",
              "      <td>101348.88</td>\n",
              "      <td>1</td>\n",
              "    </tr>\n",
              "    <tr>\n",
              "      <th>1</th>\n",
              "      <td>2</td>\n",
              "      <td>15647311</td>\n",
              "      <td>Hill</td>\n",
              "      <td>608</td>\n",
              "      <td>Spain</td>\n",
              "      <td>Female</td>\n",
              "      <td>41</td>\n",
              "      <td>1</td>\n",
              "      <td>83807.86</td>\n",
              "      <td>1</td>\n",
              "      <td>0</td>\n",
              "      <td>1</td>\n",
              "      <td>112542.58</td>\n",
              "      <td>0</td>\n",
              "    </tr>\n",
              "    <tr>\n",
              "      <th>2</th>\n",
              "      <td>3</td>\n",
              "      <td>15619304</td>\n",
              "      <td>Onio</td>\n",
              "      <td>502</td>\n",
              "      <td>France</td>\n",
              "      <td>Female</td>\n",
              "      <td>42</td>\n",
              "      <td>8</td>\n",
              "      <td>159660.80</td>\n",
              "      <td>3</td>\n",
              "      <td>1</td>\n",
              "      <td>0</td>\n",
              "      <td>113931.57</td>\n",
              "      <td>1</td>\n",
              "    </tr>\n",
              "    <tr>\n",
              "      <th>3</th>\n",
              "      <td>4</td>\n",
              "      <td>15701354</td>\n",
              "      <td>Boni</td>\n",
              "      <td>699</td>\n",
              "      <td>France</td>\n",
              "      <td>Female</td>\n",
              "      <td>39</td>\n",
              "      <td>1</td>\n",
              "      <td>0.00</td>\n",
              "      <td>2</td>\n",
              "      <td>0</td>\n",
              "      <td>0</td>\n",
              "      <td>93826.63</td>\n",
              "      <td>0</td>\n",
              "    </tr>\n",
              "    <tr>\n",
              "      <th>4</th>\n",
              "      <td>5</td>\n",
              "      <td>15737888</td>\n",
              "      <td>Mitchell</td>\n",
              "      <td>850</td>\n",
              "      <td>Spain</td>\n",
              "      <td>Female</td>\n",
              "      <td>43</td>\n",
              "      <td>2</td>\n",
              "      <td>125510.82</td>\n",
              "      <td>1</td>\n",
              "      <td>1</td>\n",
              "      <td>1</td>\n",
              "      <td>79084.10</td>\n",
              "      <td>0</td>\n",
              "    </tr>\n",
              "  </tbody>\n",
              "</table>\n",
              "</div>"
            ],
            "text/plain": [
              "   RowNumber  CustomerId   Surname  ...  IsActiveMember EstimatedSalary Exited\n",
              "0          1    15634602  Hargrave  ...               1       101348.88      1\n",
              "1          2    15647311      Hill  ...               1       112542.58      0\n",
              "2          3    15619304      Onio  ...               0       113931.57      1\n",
              "3          4    15701354      Boni  ...               0        93826.63      0\n",
              "4          5    15737888  Mitchell  ...               1        79084.10      0\n",
              "\n",
              "[5 rows x 14 columns]"
            ]
          },
          "metadata": {
            "tags": []
          },
          "execution_count": 112
        }
      ]
    },
    {
      "cell_type": "code",
      "metadata": {
        "colab": {
          "base_uri": "https://localhost:8080/"
        },
        "id": "yR2Pp0_0b_vB",
        "outputId": "44350803-d019-44f9-8aa4-410492b3a82f"
      },
      "source": [
        "data['Geography'].unique()"
      ],
      "execution_count": 113,
      "outputs": [
        {
          "output_type": "execute_result",
          "data": {
            "text/plain": [
              "array(['France', 'Spain', 'Germany'], dtype=object)"
            ]
          },
          "metadata": {
            "tags": []
          },
          "execution_count": 113
        }
      ]
    },
    {
      "cell_type": "code",
      "metadata": {
        "colab": {
          "base_uri": "https://localhost:8080/"
        },
        "id": "hmx8SQZ9cLCT",
        "outputId": "6dd3965a-f5b2-44f0-f5a5-eb706084298a"
      },
      "source": [
        "data['Gender'].unique()"
      ],
      "execution_count": 114,
      "outputs": [
        {
          "output_type": "execute_result",
          "data": {
            "text/plain": [
              "array(['Female', 'Male'], dtype=object)"
            ]
          },
          "metadata": {
            "tags": []
          },
          "execution_count": 114
        }
      ]
    },
    {
      "cell_type": "code",
      "metadata": {
        "id": "XaX_eXx-aKKl"
      },
      "source": [
        "Geo = pd.get_dummies(data['Geography'],drop_first=True)\n"
      ],
      "execution_count": 115,
      "outputs": []
    },
    {
      "cell_type": "code",
      "metadata": {
        "id": "Rm3DK7Pta3fz"
      },
      "source": [
        "Gender = pd.get_dummies(data['Gender'],drop_first=True)"
      ],
      "execution_count": 116,
      "outputs": []
    },
    {
      "cell_type": "code",
      "metadata": {
        "id": "z8OR2yIGbRk3"
      },
      "source": [
        "data.drop(['Geography','Gender'],axis=1,inplace=True)"
      ],
      "execution_count": 117,
      "outputs": []
    },
    {
      "cell_type": "code",
      "metadata": {
        "id": "Fzi-_AvYbY61"
      },
      "source": [
        "data_2 = pd.concat([data,Gender,Geo],axis=1)"
      ],
      "execution_count": 118,
      "outputs": []
    },
    {
      "cell_type": "code",
      "metadata": {
        "colab": {
          "base_uri": "https://localhost:8080/",
          "height": 226
        },
        "id": "p9KwXvX3b1S7",
        "outputId": "ea9022fe-59a8-445e-f8c3-980ad4a9aa64"
      },
      "source": [
        "data_2.head()"
      ],
      "execution_count": 119,
      "outputs": [
        {
          "output_type": "execute_result",
          "data": {
            "text/html": [
              "<div>\n",
              "<style scoped>\n",
              "    .dataframe tbody tr th:only-of-type {\n",
              "        vertical-align: middle;\n",
              "    }\n",
              "\n",
              "    .dataframe tbody tr th {\n",
              "        vertical-align: top;\n",
              "    }\n",
              "\n",
              "    .dataframe thead th {\n",
              "        text-align: right;\n",
              "    }\n",
              "</style>\n",
              "<table border=\"1\" class=\"dataframe\">\n",
              "  <thead>\n",
              "    <tr style=\"text-align: right;\">\n",
              "      <th></th>\n",
              "      <th>RowNumber</th>\n",
              "      <th>CustomerId</th>\n",
              "      <th>Surname</th>\n",
              "      <th>CreditScore</th>\n",
              "      <th>Age</th>\n",
              "      <th>Tenure</th>\n",
              "      <th>Balance</th>\n",
              "      <th>NumOfProducts</th>\n",
              "      <th>HasCrCard</th>\n",
              "      <th>IsActiveMember</th>\n",
              "      <th>EstimatedSalary</th>\n",
              "      <th>Exited</th>\n",
              "      <th>Male</th>\n",
              "      <th>Germany</th>\n",
              "      <th>Spain</th>\n",
              "    </tr>\n",
              "  </thead>\n",
              "  <tbody>\n",
              "    <tr>\n",
              "      <th>0</th>\n",
              "      <td>1</td>\n",
              "      <td>15634602</td>\n",
              "      <td>Hargrave</td>\n",
              "      <td>619</td>\n",
              "      <td>42</td>\n",
              "      <td>2</td>\n",
              "      <td>0.00</td>\n",
              "      <td>1</td>\n",
              "      <td>1</td>\n",
              "      <td>1</td>\n",
              "      <td>101348.88</td>\n",
              "      <td>1</td>\n",
              "      <td>0</td>\n",
              "      <td>0</td>\n",
              "      <td>0</td>\n",
              "    </tr>\n",
              "    <tr>\n",
              "      <th>1</th>\n",
              "      <td>2</td>\n",
              "      <td>15647311</td>\n",
              "      <td>Hill</td>\n",
              "      <td>608</td>\n",
              "      <td>41</td>\n",
              "      <td>1</td>\n",
              "      <td>83807.86</td>\n",
              "      <td>1</td>\n",
              "      <td>0</td>\n",
              "      <td>1</td>\n",
              "      <td>112542.58</td>\n",
              "      <td>0</td>\n",
              "      <td>0</td>\n",
              "      <td>0</td>\n",
              "      <td>1</td>\n",
              "    </tr>\n",
              "    <tr>\n",
              "      <th>2</th>\n",
              "      <td>3</td>\n",
              "      <td>15619304</td>\n",
              "      <td>Onio</td>\n",
              "      <td>502</td>\n",
              "      <td>42</td>\n",
              "      <td>8</td>\n",
              "      <td>159660.80</td>\n",
              "      <td>3</td>\n",
              "      <td>1</td>\n",
              "      <td>0</td>\n",
              "      <td>113931.57</td>\n",
              "      <td>1</td>\n",
              "      <td>0</td>\n",
              "      <td>0</td>\n",
              "      <td>0</td>\n",
              "    </tr>\n",
              "    <tr>\n",
              "      <th>3</th>\n",
              "      <td>4</td>\n",
              "      <td>15701354</td>\n",
              "      <td>Boni</td>\n",
              "      <td>699</td>\n",
              "      <td>39</td>\n",
              "      <td>1</td>\n",
              "      <td>0.00</td>\n",
              "      <td>2</td>\n",
              "      <td>0</td>\n",
              "      <td>0</td>\n",
              "      <td>93826.63</td>\n",
              "      <td>0</td>\n",
              "      <td>0</td>\n",
              "      <td>0</td>\n",
              "      <td>0</td>\n",
              "    </tr>\n",
              "    <tr>\n",
              "      <th>4</th>\n",
              "      <td>5</td>\n",
              "      <td>15737888</td>\n",
              "      <td>Mitchell</td>\n",
              "      <td>850</td>\n",
              "      <td>43</td>\n",
              "      <td>2</td>\n",
              "      <td>125510.82</td>\n",
              "      <td>1</td>\n",
              "      <td>1</td>\n",
              "      <td>1</td>\n",
              "      <td>79084.10</td>\n",
              "      <td>0</td>\n",
              "      <td>0</td>\n",
              "      <td>0</td>\n",
              "      <td>1</td>\n",
              "    </tr>\n",
              "  </tbody>\n",
              "</table>\n",
              "</div>"
            ],
            "text/plain": [
              "   RowNumber  CustomerId   Surname  CreditScore  ...  Exited  Male  Germany  Spain\n",
              "0          1    15634602  Hargrave          619  ...       1     0        0      0\n",
              "1          2    15647311      Hill          608  ...       0     0        0      1\n",
              "2          3    15619304      Onio          502  ...       1     0        0      0\n",
              "3          4    15701354      Boni          699  ...       0     0        0      0\n",
              "4          5    15737888  Mitchell          850  ...       0     0        0      1\n",
              "\n",
              "[5 rows x 15 columns]"
            ]
          },
          "metadata": {
            "tags": []
          },
          "execution_count": 119
        }
      ]
    },
    {
      "cell_type": "code",
      "metadata": {
        "id": "2v7UR2hebxWx"
      },
      "source": [
        "data_2.drop(['RowNumber','CustomerId','Surname'],axis=1,inplace=True)"
      ],
      "execution_count": 120,
      "outputs": []
    },
    {
      "cell_type": "code",
      "metadata": {
        "colab": {
          "base_uri": "https://localhost:8080/"
        },
        "id": "sqNbuv_gdAxq",
        "outputId": "6ddeea20-8880-453d-9793-7eb5e9c06f22"
      },
      "source": [
        "data_2.shape"
      ],
      "execution_count": 121,
      "outputs": [
        {
          "output_type": "execute_result",
          "data": {
            "text/plain": [
              "(10000, 12)"
            ]
          },
          "metadata": {
            "tags": []
          },
          "execution_count": 121
        }
      ]
    },
    {
      "cell_type": "code",
      "metadata": {
        "colab": {
          "base_uri": "https://localhost:8080/",
          "height": 206
        },
        "id": "Z4yQFG1MdHjA",
        "outputId": "1882f470-262a-4a83-8364-c008e8c3e459"
      },
      "source": [
        "data_2.head()"
      ],
      "execution_count": 122,
      "outputs": [
        {
          "output_type": "execute_result",
          "data": {
            "text/html": [
              "<div>\n",
              "<style scoped>\n",
              "    .dataframe tbody tr th:only-of-type {\n",
              "        vertical-align: middle;\n",
              "    }\n",
              "\n",
              "    .dataframe tbody tr th {\n",
              "        vertical-align: top;\n",
              "    }\n",
              "\n",
              "    .dataframe thead th {\n",
              "        text-align: right;\n",
              "    }\n",
              "</style>\n",
              "<table border=\"1\" class=\"dataframe\">\n",
              "  <thead>\n",
              "    <tr style=\"text-align: right;\">\n",
              "      <th></th>\n",
              "      <th>CreditScore</th>\n",
              "      <th>Age</th>\n",
              "      <th>Tenure</th>\n",
              "      <th>Balance</th>\n",
              "      <th>NumOfProducts</th>\n",
              "      <th>HasCrCard</th>\n",
              "      <th>IsActiveMember</th>\n",
              "      <th>EstimatedSalary</th>\n",
              "      <th>Exited</th>\n",
              "      <th>Male</th>\n",
              "      <th>Germany</th>\n",
              "      <th>Spain</th>\n",
              "    </tr>\n",
              "  </thead>\n",
              "  <tbody>\n",
              "    <tr>\n",
              "      <th>0</th>\n",
              "      <td>619</td>\n",
              "      <td>42</td>\n",
              "      <td>2</td>\n",
              "      <td>0.00</td>\n",
              "      <td>1</td>\n",
              "      <td>1</td>\n",
              "      <td>1</td>\n",
              "      <td>101348.88</td>\n",
              "      <td>1</td>\n",
              "      <td>0</td>\n",
              "      <td>0</td>\n",
              "      <td>0</td>\n",
              "    </tr>\n",
              "    <tr>\n",
              "      <th>1</th>\n",
              "      <td>608</td>\n",
              "      <td>41</td>\n",
              "      <td>1</td>\n",
              "      <td>83807.86</td>\n",
              "      <td>1</td>\n",
              "      <td>0</td>\n",
              "      <td>1</td>\n",
              "      <td>112542.58</td>\n",
              "      <td>0</td>\n",
              "      <td>0</td>\n",
              "      <td>0</td>\n",
              "      <td>1</td>\n",
              "    </tr>\n",
              "    <tr>\n",
              "      <th>2</th>\n",
              "      <td>502</td>\n",
              "      <td>42</td>\n",
              "      <td>8</td>\n",
              "      <td>159660.80</td>\n",
              "      <td>3</td>\n",
              "      <td>1</td>\n",
              "      <td>0</td>\n",
              "      <td>113931.57</td>\n",
              "      <td>1</td>\n",
              "      <td>0</td>\n",
              "      <td>0</td>\n",
              "      <td>0</td>\n",
              "    </tr>\n",
              "    <tr>\n",
              "      <th>3</th>\n",
              "      <td>699</td>\n",
              "      <td>39</td>\n",
              "      <td>1</td>\n",
              "      <td>0.00</td>\n",
              "      <td>2</td>\n",
              "      <td>0</td>\n",
              "      <td>0</td>\n",
              "      <td>93826.63</td>\n",
              "      <td>0</td>\n",
              "      <td>0</td>\n",
              "      <td>0</td>\n",
              "      <td>0</td>\n",
              "    </tr>\n",
              "    <tr>\n",
              "      <th>4</th>\n",
              "      <td>850</td>\n",
              "      <td>43</td>\n",
              "      <td>2</td>\n",
              "      <td>125510.82</td>\n",
              "      <td>1</td>\n",
              "      <td>1</td>\n",
              "      <td>1</td>\n",
              "      <td>79084.10</td>\n",
              "      <td>0</td>\n",
              "      <td>0</td>\n",
              "      <td>0</td>\n",
              "      <td>1</td>\n",
              "    </tr>\n",
              "  </tbody>\n",
              "</table>\n",
              "</div>"
            ],
            "text/plain": [
              "   CreditScore  Age  Tenure    Balance  ...  Exited  Male  Germany  Spain\n",
              "0          619   42       2       0.00  ...       1     0        0      0\n",
              "1          608   41       1   83807.86  ...       0     0        0      1\n",
              "2          502   42       8  159660.80  ...       1     0        0      0\n",
              "3          699   39       1       0.00  ...       0     0        0      0\n",
              "4          850   43       2  125510.82  ...       0     0        0      1\n",
              "\n",
              "[5 rows x 12 columns]"
            ]
          },
          "metadata": {
            "tags": []
          },
          "execution_count": 122
        }
      ]
    },
    {
      "cell_type": "code",
      "metadata": {
        "id": "ms5gdP64dyw9"
      },
      "source": [
        ""
      ],
      "execution_count": 122,
      "outputs": []
    },
    {
      "cell_type": "code",
      "metadata": {
        "id": "kEwXi3-vdMz8"
      },
      "source": [
        "x = data_2.drop(('Exited'),axis=1)\n",
        "y = data_2['Exited']"
      ],
      "execution_count": 123,
      "outputs": []
    },
    {
      "cell_type": "code",
      "metadata": {
        "colab": {
          "base_uri": "https://localhost:8080/"
        },
        "id": "1oQRP4XldXiL",
        "outputId": "e260e5a5-0d5d-4cce-c91d-20bfd0db3283"
      },
      "source": [
        "x.shape"
      ],
      "execution_count": 124,
      "outputs": [
        {
          "output_type": "execute_result",
          "data": {
            "text/plain": [
              "(10000, 11)"
            ]
          },
          "metadata": {
            "tags": []
          },
          "execution_count": 124
        }
      ]
    },
    {
      "cell_type": "code",
      "metadata": {
        "colab": {
          "base_uri": "https://localhost:8080/"
        },
        "id": "bLW4yMAGdpEA",
        "outputId": "990b35f4-8724-42f4-c3ac-2fba81b4794d"
      },
      "source": [
        "y.shape"
      ],
      "execution_count": 125,
      "outputs": [
        {
          "output_type": "execute_result",
          "data": {
            "text/plain": [
              "(10000,)"
            ]
          },
          "metadata": {
            "tags": []
          },
          "execution_count": 125
        }
      ]
    },
    {
      "cell_type": "code",
      "metadata": {
        "id": "VCpKofEYdq3I"
      },
      "source": [
        "from sklearn.model_selection import train_test_split\n",
        "x_train,x_test,y_train,y_test = train_test_split(x,y ,test_size=0.2)"
      ],
      "execution_count": 126,
      "outputs": []
    },
    {
      "cell_type": "code",
      "metadata": {
        "id": "dY_O323FnhgR"
      },
      "source": [
        "from sklearn.preprocessing import StandardScaler\n",
        "sc = StandardScaler()\n",
        "x_train = sc.fit_transform(x_train)\n",
        "x_test = sc.transform(x_test)"
      ],
      "execution_count": 127,
      "outputs": []
    },
    {
      "cell_type": "code",
      "metadata": {
        "id": "xAKGZsR1e_yY"
      },
      "source": [
        "import keras\n",
        "from keras.models import Sequential\n",
        "from keras.layers import Dense\n",
        "from keras.layers import LeakyReLU, ELU, PReLU\n",
        "from keras.layers import Dropout"
      ],
      "execution_count": 128,
      "outputs": []
    },
    {
      "cell_type": "code",
      "metadata": {
        "id": "AtBrNzX1fEG4"
      },
      "source": [
        "classifier = Sequential()"
      ],
      "execution_count": 129,
      "outputs": []
    },
    {
      "cell_type": "code",
      "metadata": {
        "id": "bGpbahZGgCnZ"
      },
      "source": [
        "# Adding the Input Layer\n",
        "classifier.add(Dense(units=6, kernel_initializer='he_uniform', activation='relu',input_dim=11))"
      ],
      "execution_count": 130,
      "outputs": []
    },
    {
      "cell_type": "code",
      "metadata": {
        "id": "iMxzv58qjdK1"
      },
      "source": [
        "# Adding the First Hidden Layer\n",
        "classifier.add(Dense(units=6,kernel_initializer='he_uniform',activation='relu'))\n",
        "#classifier.add(Dropout(0.2))\n",
        "\n",
        "# Adding the Second Hidden layer\n",
        "classifier.add(Dense(units=6,kernel_initializer='he_uniform',activation='relu'))\n",
        "#classifier.add(Dropout(0.2))"
      ],
      "execution_count": 131,
      "outputs": []
    },
    {
      "cell_type": "code",
      "metadata": {
        "id": "Flx0m1c9j80d"
      },
      "source": [
        "# output layer\n",
        "\n",
        "classifier.add(Dense(units=1,kernel_initializer='glorot_uniform',activation='sigmoid'))"
      ],
      "execution_count": 132,
      "outputs": []
    },
    {
      "cell_type": "code",
      "metadata": {
        "id": "neVULU26lN3X"
      },
      "source": [
        "# compilling the ANN model\n",
        "classifier.compile(optimizer='adam',loss='binary_crossentropy',metrics = ['accuracy'])"
      ],
      "execution_count": 133,
      "outputs": []
    },
    {
      "cell_type": "code",
      "metadata": {
        "colab": {
          "base_uri": "https://localhost:8080/"
        },
        "id": "m3B39vWomOVD",
        "outputId": "86651b7f-d844-46dd-8d2d-82bc1b47e40d"
      },
      "source": [
        "model_history = classifier.fit(x_train,y_train, validation_split=0.33, batch_size=20,epochs=50)"
      ],
      "execution_count": 139,
      "outputs": [
        {
          "output_type": "stream",
          "text": [
            "Epoch 1/50\n",
            "268/268 [==============================] - 1s 2ms/step - loss: 0.3368 - accuracy: 0.8546 - val_loss: 0.3462 - val_accuracy: 0.8580\n",
            "Epoch 2/50\n",
            "268/268 [==============================] - 1s 2ms/step - loss: 0.3368 - accuracy: 0.8552 - val_loss: 0.3448 - val_accuracy: 0.8580\n",
            "Epoch 3/50\n",
            "268/268 [==============================] - 1s 2ms/step - loss: 0.3364 - accuracy: 0.8554 - val_loss: 0.3428 - val_accuracy: 0.8622\n",
            "Epoch 4/50\n",
            "268/268 [==============================] - 1s 2ms/step - loss: 0.3360 - accuracy: 0.8543 - val_loss: 0.3471 - val_accuracy: 0.8531\n",
            "Epoch 5/50\n",
            "268/268 [==============================] - 1s 2ms/step - loss: 0.3361 - accuracy: 0.8558 - val_loss: 0.3441 - val_accuracy: 0.8591\n",
            "Epoch 6/50\n",
            "268/268 [==============================] - 1s 2ms/step - loss: 0.3365 - accuracy: 0.8567 - val_loss: 0.3427 - val_accuracy: 0.8633\n",
            "Epoch 7/50\n",
            "268/268 [==============================] - 1s 2ms/step - loss: 0.3352 - accuracy: 0.8565 - val_loss: 0.3435 - val_accuracy: 0.8599\n",
            "Epoch 8/50\n",
            "268/268 [==============================] - 1s 2ms/step - loss: 0.3356 - accuracy: 0.8546 - val_loss: 0.3434 - val_accuracy: 0.8591\n",
            "Epoch 9/50\n",
            "268/268 [==============================] - 1s 2ms/step - loss: 0.3352 - accuracy: 0.8558 - val_loss: 0.3468 - val_accuracy: 0.8538\n",
            "Epoch 10/50\n",
            "268/268 [==============================] - 1s 2ms/step - loss: 0.3352 - accuracy: 0.8554 - val_loss: 0.3443 - val_accuracy: 0.8561\n",
            "Epoch 11/50\n",
            "268/268 [==============================] - 1s 2ms/step - loss: 0.3352 - accuracy: 0.8550 - val_loss: 0.3464 - val_accuracy: 0.8504\n",
            "Epoch 12/50\n",
            "268/268 [==============================] - 1s 2ms/step - loss: 0.3353 - accuracy: 0.8552 - val_loss: 0.3454 - val_accuracy: 0.8535\n",
            "Epoch 13/50\n",
            "268/268 [==============================] - 1s 2ms/step - loss: 0.3347 - accuracy: 0.8563 - val_loss: 0.3435 - val_accuracy: 0.8614\n",
            "Epoch 14/50\n",
            "268/268 [==============================] - 1s 2ms/step - loss: 0.3346 - accuracy: 0.8569 - val_loss: 0.3437 - val_accuracy: 0.8595\n",
            "Epoch 15/50\n",
            "268/268 [==============================] - 1s 2ms/step - loss: 0.3340 - accuracy: 0.8576 - val_loss: 0.3438 - val_accuracy: 0.8588\n",
            "Epoch 16/50\n",
            "268/268 [==============================] - 1s 2ms/step - loss: 0.3338 - accuracy: 0.8587 - val_loss: 0.3465 - val_accuracy: 0.8554\n",
            "Epoch 17/50\n",
            "268/268 [==============================] - 1s 2ms/step - loss: 0.3340 - accuracy: 0.8554 - val_loss: 0.3433 - val_accuracy: 0.8588\n",
            "Epoch 18/50\n",
            "268/268 [==============================] - 1s 2ms/step - loss: 0.3336 - accuracy: 0.8567 - val_loss: 0.3433 - val_accuracy: 0.8591\n",
            "Epoch 19/50\n",
            "268/268 [==============================] - 1s 2ms/step - loss: 0.3338 - accuracy: 0.8563 - val_loss: 0.3433 - val_accuracy: 0.8603\n",
            "Epoch 20/50\n",
            "268/268 [==============================] - 1s 2ms/step - loss: 0.3337 - accuracy: 0.8565 - val_loss: 0.3452 - val_accuracy: 0.8542\n",
            "Epoch 21/50\n",
            "268/268 [==============================] - 1s 2ms/step - loss: 0.3327 - accuracy: 0.8580 - val_loss: 0.3445 - val_accuracy: 0.8591\n",
            "Epoch 22/50\n",
            "268/268 [==============================] - 1s 2ms/step - loss: 0.3331 - accuracy: 0.8565 - val_loss: 0.3445 - val_accuracy: 0.8607\n",
            "Epoch 23/50\n",
            "268/268 [==============================] - 1s 2ms/step - loss: 0.3329 - accuracy: 0.8561 - val_loss: 0.3446 - val_accuracy: 0.8580\n",
            "Epoch 24/50\n",
            "268/268 [==============================] - 1s 2ms/step - loss: 0.3336 - accuracy: 0.8574 - val_loss: 0.3458 - val_accuracy: 0.8569\n",
            "Epoch 25/50\n",
            "268/268 [==============================] - 1s 2ms/step - loss: 0.3327 - accuracy: 0.8582 - val_loss: 0.3426 - val_accuracy: 0.8656\n",
            "Epoch 26/50\n",
            "268/268 [==============================] - 1s 2ms/step - loss: 0.3331 - accuracy: 0.8580 - val_loss: 0.3426 - val_accuracy: 0.8641\n",
            "Epoch 27/50\n",
            "268/268 [==============================] - 1s 2ms/step - loss: 0.3328 - accuracy: 0.8578 - val_loss: 0.3425 - val_accuracy: 0.8614\n",
            "Epoch 28/50\n",
            "268/268 [==============================] - 1s 2ms/step - loss: 0.3329 - accuracy: 0.8578 - val_loss: 0.3443 - val_accuracy: 0.8573\n",
            "Epoch 29/50\n",
            "268/268 [==============================] - 1s 2ms/step - loss: 0.3323 - accuracy: 0.8576 - val_loss: 0.3429 - val_accuracy: 0.8626\n",
            "Epoch 30/50\n",
            "268/268 [==============================] - 1s 2ms/step - loss: 0.3317 - accuracy: 0.8571 - val_loss: 0.3437 - val_accuracy: 0.8614\n",
            "Epoch 31/50\n",
            "268/268 [==============================] - 1s 2ms/step - loss: 0.3320 - accuracy: 0.8586 - val_loss: 0.3434 - val_accuracy: 0.8614\n",
            "Epoch 32/50\n",
            "268/268 [==============================] - 1s 2ms/step - loss: 0.3324 - accuracy: 0.8563 - val_loss: 0.3438 - val_accuracy: 0.8641\n",
            "Epoch 33/50\n",
            "268/268 [==============================] - 0s 2ms/step - loss: 0.3322 - accuracy: 0.8571 - val_loss: 0.3448 - val_accuracy: 0.8644\n",
            "Epoch 34/50\n",
            "268/268 [==============================] - 1s 2ms/step - loss: 0.3322 - accuracy: 0.8584 - val_loss: 0.3453 - val_accuracy: 0.8554\n",
            "Epoch 35/50\n",
            "268/268 [==============================] - 1s 2ms/step - loss: 0.3314 - accuracy: 0.8599 - val_loss: 0.3429 - val_accuracy: 0.8633\n",
            "Epoch 36/50\n",
            "268/268 [==============================] - 1s 2ms/step - loss: 0.3320 - accuracy: 0.8597 - val_loss: 0.3429 - val_accuracy: 0.8607\n",
            "Epoch 37/50\n",
            "268/268 [==============================] - 1s 2ms/step - loss: 0.3320 - accuracy: 0.8561 - val_loss: 0.3430 - val_accuracy: 0.8656\n",
            "Epoch 38/50\n",
            "268/268 [==============================] - 1s 2ms/step - loss: 0.3322 - accuracy: 0.8582 - val_loss: 0.3440 - val_accuracy: 0.8629\n",
            "Epoch 39/50\n",
            "268/268 [==============================] - 1s 2ms/step - loss: 0.3311 - accuracy: 0.8572 - val_loss: 0.3442 - val_accuracy: 0.8580\n",
            "Epoch 40/50\n",
            "268/268 [==============================] - 1s 2ms/step - loss: 0.3321 - accuracy: 0.8591 - val_loss: 0.3454 - val_accuracy: 0.8557\n",
            "Epoch 41/50\n",
            "268/268 [==============================] - 1s 2ms/step - loss: 0.3313 - accuracy: 0.8565 - val_loss: 0.3447 - val_accuracy: 0.8565\n",
            "Epoch 42/50\n",
            "268/268 [==============================] - 1s 2ms/step - loss: 0.3319 - accuracy: 0.8572 - val_loss: 0.3456 - val_accuracy: 0.8554\n",
            "Epoch 43/50\n",
            "268/268 [==============================] - 1s 2ms/step - loss: 0.3312 - accuracy: 0.8571 - val_loss: 0.3434 - val_accuracy: 0.8633\n",
            "Epoch 44/50\n",
            "268/268 [==============================] - 0s 2ms/step - loss: 0.3316 - accuracy: 0.8578 - val_loss: 0.3431 - val_accuracy: 0.8626\n",
            "Epoch 45/50\n",
            "268/268 [==============================] - 1s 2ms/step - loss: 0.3316 - accuracy: 0.8567 - val_loss: 0.3451 - val_accuracy: 0.8554\n",
            "Epoch 46/50\n",
            "268/268 [==============================] - 1s 2ms/step - loss: 0.3309 - accuracy: 0.8571 - val_loss: 0.3429 - val_accuracy: 0.8671\n",
            "Epoch 47/50\n",
            "268/268 [==============================] - 1s 2ms/step - loss: 0.3316 - accuracy: 0.8571 - val_loss: 0.3433 - val_accuracy: 0.8618\n",
            "Epoch 48/50\n",
            "268/268 [==============================] - 0s 2ms/step - loss: 0.3314 - accuracy: 0.8599 - val_loss: 0.3419 - val_accuracy: 0.8644\n",
            "Epoch 49/50\n",
            "268/268 [==============================] - 1s 2ms/step - loss: 0.3315 - accuracy: 0.8572 - val_loss: 0.3432 - val_accuracy: 0.8629\n",
            "Epoch 50/50\n",
            "268/268 [==============================] - 1s 2ms/step - loss: 0.3309 - accuracy: 0.8574 - val_loss: 0.3420 - val_accuracy: 0.8656\n"
          ],
          "name": "stdout"
        }
      ]
    },
    {
      "cell_type": "code",
      "metadata": {
        "id": "rVdYRf58mwGU"
      },
      "source": [
        "y_pre = classifier.predict(x_test)\n",
        "y_pre = (y_pre>0.5)"
      ],
      "execution_count": 140,
      "outputs": []
    },
    {
      "cell_type": "code",
      "metadata": {
        "colab": {
          "base_uri": "https://localhost:8080/"
        },
        "id": "p4PQ7tdHoVOf",
        "outputId": "0cdeca33-d7e2-482e-a342-e72f5488dba5"
      },
      "source": [
        "y_pre"
      ],
      "execution_count": 141,
      "outputs": [
        {
          "output_type": "execute_result",
          "data": {
            "text/plain": [
              "array([[ True],\n",
              "       [False],\n",
              "       [False],\n",
              "       ...,\n",
              "       [False],\n",
              "       [False],\n",
              "       [False]])"
            ]
          },
          "metadata": {
            "tags": []
          },
          "execution_count": 141
        }
      ]
    },
    {
      "cell_type": "code",
      "metadata": {
        "colab": {
          "base_uri": "https://localhost:8080/"
        },
        "id": "mGMXbCgXoXkJ",
        "outputId": "145fbcd1-2201-42af-c7d6-82afe5ec1ee9"
      },
      "source": [
        "from sklearn.metrics import confusion_matrix\n",
        "cm = confusion_matrix(y_test, y_pre)\n",
        "\n",
        "cm"
      ],
      "execution_count": 142,
      "outputs": [
        {
          "output_type": "execute_result",
          "data": {
            "text/plain": [
              "array([[1534,   67],\n",
              "       [ 216,  183]])"
            ]
          },
          "metadata": {
            "tags": []
          },
          "execution_count": 142
        }
      ]
    },
    {
      "cell_type": "code",
      "metadata": {
        "colab": {
          "base_uri": "https://localhost:8080/"
        },
        "id": "zDvYd8ByohyJ",
        "outputId": "2aa076e9-e34a-432e-9476-a1e82a8ff211"
      },
      "source": [
        "from sklearn.metrics import accuracy_score\n",
        "score=accuracy_score(y_pre,y_test)\n",
        "\n",
        "score"
      ],
      "execution_count": 143,
      "outputs": [
        {
          "output_type": "execute_result",
          "data": {
            "text/plain": [
              "0.8585"
            ]
          },
          "metadata": {
            "tags": []
          },
          "execution_count": 143
        }
      ]
    },
    {
      "cell_type": "code",
      "metadata": {
        "colab": {
          "base_uri": "https://localhost:8080/"
        },
        "id": "iZPirhHbquoU",
        "outputId": "42b52ec4-809b-41ce-c136-56bfc838e62b"
      },
      "source": [
        "print(model_history.history.keys())"
      ],
      "execution_count": 145,
      "outputs": [
        {
          "output_type": "stream",
          "text": [
            "dict_keys(['loss', 'accuracy', 'val_loss', 'val_accuracy'])\n"
          ],
          "name": "stdout"
        }
      ]
    },
    {
      "cell_type": "code",
      "metadata": {
        "colab": {
          "base_uri": "https://localhost:8080/",
          "height": 313
        },
        "id": "OSQlxBXcozVi",
        "outputId": "e2376f08-f878-492a-e7bf-79ae65e2796d"
      },
      "source": [
        "print(model_history.history.keys())\n",
        "# summarize history for accuracy\n",
        "plt.plot(model_history.history['accuracy'])\n",
        "plt.plot(model_history.history['val_accuracy'])\n",
        "plt.title('model accuracy')\n",
        "plt.ylabel('accuracy')\n",
        "plt.xlabel('epoch')\n",
        "plt.legend(['train', 'test'], loc='upper left')\n",
        "plt.show()\n"
      ],
      "execution_count": 146,
      "outputs": [
        {
          "output_type": "stream",
          "text": [
            "dict_keys(['loss', 'accuracy', 'val_loss', 'val_accuracy'])\n"
          ],
          "name": "stdout"
        },
        {
          "output_type": "display_data",
          "data": {
            "image/png": "[encoded data removed]",
            "text/plain": [
              "<Figure size 432x288 with 1 Axes>"
            ]
          },
          "metadata": {
            "tags": [],
            "needs_background": "light"
          }
        }
      ]
    },
    {
      "cell_type": "code",
      "metadata": {
        "colab": {
          "base_uri": "https://localhost:8080/",
          "height": 295
        },
        "id": "rKPqulkHq_SW",
        "outputId": "fe88e665-be34-4b27-8ce1-e388ff073bbc"
      },
      "source": [
        "# summarize history for loss\n",
        "plt.plot(model_history.history['loss'])\n",
        "plt.plot(model_history.history['val_loss'])\n",
        "plt.title('model loss')\n",
        "plt.ylabel('loss')\n",
        "plt.xlabel('epoch')\n",
        "plt.legend(['train', 'test'], loc='upper left')\n",
        "plt.show()"
      ],
      "execution_count": 147,
      "outputs": [
        {
          "output_type": "display_data",
          "data": {
            "image/png": "[encoded data removed]",
            "text/plain": [
              "<Figure size 432x288 with 1 Axes>"
            ]
          },
          "metadata": {
            "tags": [],
            "needs_background": "light"
          }
        }
      ]
    },
    {
      "cell_type": "code",
      "metadata": {
        "id": "9w59DRqprMCm"
      },
      "source": [
        ""
      ],
      "execution_count": null,
      "outputs": []
    }
  ]
}
