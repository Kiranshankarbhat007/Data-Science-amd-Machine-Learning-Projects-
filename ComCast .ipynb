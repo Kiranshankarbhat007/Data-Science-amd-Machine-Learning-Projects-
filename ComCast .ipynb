{
 "cells": [
  {
   "cell_type": "code",
   "execution_count": 1,
   "metadata": {},
   "outputs": [],
   "source": [
    "import numpy as np\n",
    "import pandas as pd\n",
    "import matplotlib.pyplot as plt"
   ]
  },
  {
   "cell_type": "markdown",
   "metadata": {},
   "source": [
    "####  Import data"
   ]
  },
  {
   "cell_type": "code",
   "execution_count": 2,
   "metadata": {},
   "outputs": [
    {
     "data": {
      "text/plain": [
       "(2224, 11)"
      ]
     },
     "execution_count": 2,
     "metadata": {},
     "output_type": "execute_result"
    }
   ],
   "source": [
    "comcast = pd.read_csv(\"Comcast_telecom_complaints_data.csv\",date_parser=True)\n",
    "comcast.shape"
   ]
  },
  {
   "cell_type": "code",
   "execution_count": 3,
   "metadata": {},
   "outputs": [
    {
     "data": {
      "text/html": [
       "<div>\n",
       "<style scoped>\n",
       "    .dataframe tbody tr th:only-of-type {\n",
       "        vertical-align: middle;\n",
       "    }\n",
       "\n",
       "    .dataframe tbody tr th {\n",
       "        vertical-align: top;\n",
       "    }\n",
       "\n",
       "    .dataframe thead th {\n",
       "        text-align: right;\n",
       "    }\n",
       "</style>\n",
       "<table border=\"1\" class=\"dataframe\">\n",
       "  <thead>\n",
       "    <tr style=\"text-align: right;\">\n",
       "      <th></th>\n",
       "      <th>Ticket #</th>\n",
       "      <th>Customer Complaint</th>\n",
       "      <th>Date</th>\n",
       "      <th>Date_month_year</th>\n",
       "      <th>Time</th>\n",
       "      <th>Received Via</th>\n",
       "      <th>City</th>\n",
       "      <th>State</th>\n",
       "      <th>Zip code</th>\n",
       "      <th>Status</th>\n",
       "      <th>Filing on Behalf of Someone</th>\n",
       "    </tr>\n",
       "  </thead>\n",
       "  <tbody>\n",
       "    <tr>\n",
       "      <th>0</th>\n",
       "      <td>250635</td>\n",
       "      <td>Comcast Cable Internet Speeds</td>\n",
       "      <td>22-04-15</td>\n",
       "      <td>22-Apr-15</td>\n",
       "      <td>3:53:50 PM</td>\n",
       "      <td>Customer Care Call</td>\n",
       "      <td>Abingdon</td>\n",
       "      <td>Maryland</td>\n",
       "      <td>21009</td>\n",
       "      <td>Closed</td>\n",
       "      <td>No</td>\n",
       "    </tr>\n",
       "    <tr>\n",
       "      <th>1</th>\n",
       "      <td>223441</td>\n",
       "      <td>Payment disappear - service got disconnected</td>\n",
       "      <td>04-08-15</td>\n",
       "      <td>04-Aug-15</td>\n",
       "      <td>10:22:56 AM</td>\n",
       "      <td>Internet</td>\n",
       "      <td>Acworth</td>\n",
       "      <td>Georgia</td>\n",
       "      <td>30102</td>\n",
       "      <td>Closed</td>\n",
       "      <td>No</td>\n",
       "    </tr>\n",
       "    <tr>\n",
       "      <th>2</th>\n",
       "      <td>242732</td>\n",
       "      <td>Speed and Service</td>\n",
       "      <td>18-04-15</td>\n",
       "      <td>18-Apr-15</td>\n",
       "      <td>9:55:47 AM</td>\n",
       "      <td>Internet</td>\n",
       "      <td>Acworth</td>\n",
       "      <td>Georgia</td>\n",
       "      <td>30101</td>\n",
       "      <td>Closed</td>\n",
       "      <td>Yes</td>\n",
       "    </tr>\n",
       "    <tr>\n",
       "      <th>3</th>\n",
       "      <td>277946</td>\n",
       "      <td>Comcast Imposed a New Usage Cap of 300GB that ...</td>\n",
       "      <td>05-07-15</td>\n",
       "      <td>05-Jul-15</td>\n",
       "      <td>11:59:35 AM</td>\n",
       "      <td>Internet</td>\n",
       "      <td>Acworth</td>\n",
       "      <td>Georgia</td>\n",
       "      <td>30101</td>\n",
       "      <td>Open</td>\n",
       "      <td>Yes</td>\n",
       "    </tr>\n",
       "    <tr>\n",
       "      <th>4</th>\n",
       "      <td>307175</td>\n",
       "      <td>Comcast not working and no service to boot</td>\n",
       "      <td>26-05-15</td>\n",
       "      <td>26-May-15</td>\n",
       "      <td>1:25:26 PM</td>\n",
       "      <td>Internet</td>\n",
       "      <td>Acworth</td>\n",
       "      <td>Georgia</td>\n",
       "      <td>30101</td>\n",
       "      <td>Solved</td>\n",
       "      <td>No</td>\n",
       "    </tr>\n",
       "  </tbody>\n",
       "</table>\n",
       "</div>"
      ],
      "text/plain": [
       "  Ticket #                                 Customer Complaint      Date  \\\n",
       "0   250635                      Comcast Cable Internet Speeds  22-04-15   \n",
       "1   223441       Payment disappear - service got disconnected  04-08-15   \n",
       "2   242732                                  Speed and Service  18-04-15   \n",
       "3   277946  Comcast Imposed a New Usage Cap of 300GB that ...  05-07-15   \n",
       "4   307175         Comcast not working and no service to boot  26-05-15   \n",
       "\n",
       "  Date_month_year         Time        Received Via      City     State  \\\n",
       "0       22-Apr-15   3:53:50 PM  Customer Care Call  Abingdon  Maryland   \n",
       "1       04-Aug-15  10:22:56 AM            Internet   Acworth   Georgia   \n",
       "2       18-Apr-15   9:55:47 AM            Internet   Acworth   Georgia   \n",
       "3       05-Jul-15  11:59:35 AM            Internet   Acworth   Georgia   \n",
       "4       26-May-15   1:25:26 PM            Internet   Acworth   Georgia   \n",
       "\n",
       "   Zip code  Status Filing on Behalf of Someone  \n",
       "0     21009  Closed                          No  \n",
       "1     30102  Closed                          No  \n",
       "2     30101  Closed                         Yes  \n",
       "3     30101    Open                         Yes  \n",
       "4     30101  Solved                          No  "
      ]
     },
     "execution_count": 3,
     "metadata": {},
     "output_type": "execute_result"
    }
   ],
   "source": [
    "comcast.head()"
   ]
  },
  {
   "cell_type": "code",
   "execution_count": 4,
   "metadata": {},
   "outputs": [
    {
     "data": {
      "text/plain": [
       "Ticket #                       object\n",
       "Customer Complaint             object\n",
       "Date                           object\n",
       "Date_month_year                object\n",
       "Time                           object\n",
       "Received Via                   object\n",
       "City                           object\n",
       "State                          object\n",
       "Zip code                        int64\n",
       "Status                         object\n",
       "Filing on Behalf of Someone    object\n",
       "dtype: object"
      ]
     },
     "execution_count": 4,
     "metadata": {},
     "output_type": "execute_result"
    }
   ],
   "source": [
    "comcast.dtypes"
   ]
  },
  {
   "cell_type": "code",
   "execution_count": 5,
   "metadata": {},
   "outputs": [],
   "source": [
    "# Creating  Date time column\n",
    "comcast['Date_time'] = comcast['Date'] + \" \" + comcast['Time']\n",
    "comcast['Date_time'] = pd.to_datetime(comcast['Date_time'])"
   ]
  },
  {
   "cell_type": "code",
   "execution_count": 6,
   "metadata": {},
   "outputs": [
    {
     "data": {
      "text/plain": [
       "Ticket #                               object\n",
       "Customer Complaint                     object\n",
       "Date                                   object\n",
       "Date_month_year                        object\n",
       "Time                                   object\n",
       "Received Via                           object\n",
       "City                                   object\n",
       "State                                  object\n",
       "Zip code                                int64\n",
       "Status                                 object\n",
       "Filing on Behalf of Someone            object\n",
       "Date_time                      datetime64[ns]\n",
       "dtype: object"
      ]
     },
     "execution_count": 6,
     "metadata": {},
     "output_type": "execute_result"
    }
   ],
   "source": [
    "comcast.dtypes"
   ]
  },
  {
   "cell_type": "code",
   "execution_count": 7,
   "metadata": {},
   "outputs": [
    {
     "data": {
      "text/html": [
       "<div>\n",
       "<style scoped>\n",
       "    .dataframe tbody tr th:only-of-type {\n",
       "        vertical-align: middle;\n",
       "    }\n",
       "\n",
       "    .dataframe tbody tr th {\n",
       "        vertical-align: top;\n",
       "    }\n",
       "\n",
       "    .dataframe thead th {\n",
       "        text-align: right;\n",
       "    }\n",
       "</style>\n",
       "<table border=\"1\" class=\"dataframe\">\n",
       "  <thead>\n",
       "    <tr style=\"text-align: right;\">\n",
       "      <th></th>\n",
       "      <th>Ticket #</th>\n",
       "      <th>Customer Complaint</th>\n",
       "      <th>Date</th>\n",
       "      <th>Date_month_year</th>\n",
       "      <th>Time</th>\n",
       "      <th>Received Via</th>\n",
       "      <th>City</th>\n",
       "      <th>State</th>\n",
       "      <th>Zip code</th>\n",
       "      <th>Status</th>\n",
       "      <th>Filing on Behalf of Someone</th>\n",
       "      <th>Date_time</th>\n",
       "    </tr>\n",
       "  </thead>\n",
       "  <tbody>\n",
       "    <tr>\n",
       "      <th>0</th>\n",
       "      <td>250635</td>\n",
       "      <td>Comcast Cable Internet Speeds</td>\n",
       "      <td>22-04-15</td>\n",
       "      <td>22-Apr-15</td>\n",
       "      <td>3:53:50 PM</td>\n",
       "      <td>Customer Care Call</td>\n",
       "      <td>Abingdon</td>\n",
       "      <td>Maryland</td>\n",
       "      <td>21009</td>\n",
       "      <td>Closed</td>\n",
       "      <td>No</td>\n",
       "      <td>2015-04-22 15:53:50</td>\n",
       "    </tr>\n",
       "    <tr>\n",
       "      <th>1</th>\n",
       "      <td>223441</td>\n",
       "      <td>Payment disappear - service got disconnected</td>\n",
       "      <td>04-08-15</td>\n",
       "      <td>04-Aug-15</td>\n",
       "      <td>10:22:56 AM</td>\n",
       "      <td>Internet</td>\n",
       "      <td>Acworth</td>\n",
       "      <td>Georgia</td>\n",
       "      <td>30102</td>\n",
       "      <td>Closed</td>\n",
       "      <td>No</td>\n",
       "      <td>2015-04-08 10:22:56</td>\n",
       "    </tr>\n",
       "    <tr>\n",
       "      <th>2</th>\n",
       "      <td>242732</td>\n",
       "      <td>Speed and Service</td>\n",
       "      <td>18-04-15</td>\n",
       "      <td>18-Apr-15</td>\n",
       "      <td>9:55:47 AM</td>\n",
       "      <td>Internet</td>\n",
       "      <td>Acworth</td>\n",
       "      <td>Georgia</td>\n",
       "      <td>30101</td>\n",
       "      <td>Closed</td>\n",
       "      <td>Yes</td>\n",
       "      <td>2015-04-18 09:55:47</td>\n",
       "    </tr>\n",
       "    <tr>\n",
       "      <th>3</th>\n",
       "      <td>277946</td>\n",
       "      <td>Comcast Imposed a New Usage Cap of 300GB that ...</td>\n",
       "      <td>05-07-15</td>\n",
       "      <td>05-Jul-15</td>\n",
       "      <td>11:59:35 AM</td>\n",
       "      <td>Internet</td>\n",
       "      <td>Acworth</td>\n",
       "      <td>Georgia</td>\n",
       "      <td>30101</td>\n",
       "      <td>Open</td>\n",
       "      <td>Yes</td>\n",
       "      <td>2015-05-07 11:59:35</td>\n",
       "    </tr>\n",
       "    <tr>\n",
       "      <th>4</th>\n",
       "      <td>307175</td>\n",
       "      <td>Comcast not working and no service to boot</td>\n",
       "      <td>26-05-15</td>\n",
       "      <td>26-May-15</td>\n",
       "      <td>1:25:26 PM</td>\n",
       "      <td>Internet</td>\n",
       "      <td>Acworth</td>\n",
       "      <td>Georgia</td>\n",
       "      <td>30101</td>\n",
       "      <td>Solved</td>\n",
       "      <td>No</td>\n",
       "      <td>2015-05-26 13:25:26</td>\n",
       "    </tr>\n",
       "  </tbody>\n",
       "</table>\n",
       "</div>"
      ],
      "text/plain": [
       "  Ticket #                                 Customer Complaint      Date  \\\n",
       "0   250635                      Comcast Cable Internet Speeds  22-04-15   \n",
       "1   223441       Payment disappear - service got disconnected  04-08-15   \n",
       "2   242732                                  Speed and Service  18-04-15   \n",
       "3   277946  Comcast Imposed a New Usage Cap of 300GB that ...  05-07-15   \n",
       "4   307175         Comcast not working and no service to boot  26-05-15   \n",
       "\n",
       "  Date_month_year         Time        Received Via      City     State  \\\n",
       "0       22-Apr-15   3:53:50 PM  Customer Care Call  Abingdon  Maryland   \n",
       "1       04-Aug-15  10:22:56 AM            Internet   Acworth   Georgia   \n",
       "2       18-Apr-15   9:55:47 AM            Internet   Acworth   Georgia   \n",
       "3       05-Jul-15  11:59:35 AM            Internet   Acworth   Georgia   \n",
       "4       26-May-15   1:25:26 PM            Internet   Acworth   Georgia   \n",
       "\n",
       "   Zip code  Status Filing on Behalf of Someone           Date_time  \n",
       "0     21009  Closed                          No 2015-04-22 15:53:50  \n",
       "1     30102  Closed                          No 2015-04-08 10:22:56  \n",
       "2     30101  Closed                         Yes 2015-04-18 09:55:47  \n",
       "3     30101    Open                         Yes 2015-05-07 11:59:35  \n",
       "4     30101  Solved                          No 2015-05-26 13:25:26  "
      ]
     },
     "execution_count": 7,
     "metadata": {},
     "output_type": "execute_result"
    }
   ],
   "source": [
    "comcast.head()"
   ]
  },
  {
   "cell_type": "markdown",
   "metadata": {},
   "source": [
    "#### Number of complaints per month"
   ]
  },
  {
   "cell_type": "code",
   "execution_count": 8,
   "metadata": {},
   "outputs": [
    {
     "data": {
      "text/html": [
       "<div>\n",
       "<style scoped>\n",
       "    .dataframe tbody tr th:only-of-type {\n",
       "        vertical-align: middle;\n",
       "    }\n",
       "\n",
       "    .dataframe tbody tr th {\n",
       "        vertical-align: top;\n",
       "    }\n",
       "\n",
       "    .dataframe thead th {\n",
       "        text-align: right;\n",
       "    }\n",
       "</style>\n",
       "<table border=\"1\" class=\"dataframe\">\n",
       "  <thead>\n",
       "    <tr style=\"text-align: right;\">\n",
       "      <th></th>\n",
       "      <th>Ticket #</th>\n",
       "    </tr>\n",
       "    <tr>\n",
       "      <th>Date_time</th>\n",
       "      <th></th>\n",
       "    </tr>\n",
       "  </thead>\n",
       "  <tbody>\n",
       "    <tr>\n",
       "      <th>4</th>\n",
       "      <td>545</td>\n",
       "    </tr>\n",
       "    <tr>\n",
       "      <th>5</th>\n",
       "      <td>399</td>\n",
       "    </tr>\n",
       "    <tr>\n",
       "      <th>6</th>\n",
       "      <td>1280</td>\n",
       "    </tr>\n",
       "  </tbody>\n",
       "</table>\n",
       "</div>"
      ],
      "text/plain": [
       "           Ticket #\n",
       "Date_time          \n",
       "4               545\n",
       "5               399\n",
       "6              1280"
      ]
     },
     "execution_count": 8,
     "metadata": {},
     "output_type": "execute_result"
    }
   ],
   "source": [
    "comcast.groupby(comcast.Date_time.dt.month).agg( {'Ticket #': 'count'})#.reset_index()"
   ]
  },
  {
   "cell_type": "code",
   "execution_count": 9,
   "metadata": {},
   "outputs": [
    {
     "data": {
      "text/html": [
       "<div>\n",
       "<style scoped>\n",
       "    .dataframe tbody tr th:only-of-type {\n",
       "        vertical-align: middle;\n",
       "    }\n",
       "\n",
       "    .dataframe tbody tr th {\n",
       "        vertical-align: top;\n",
       "    }\n",
       "\n",
       "    .dataframe thead th {\n",
       "        text-align: right;\n",
       "    }\n",
       "</style>\n",
       "<table border=\"1\" class=\"dataframe\">\n",
       "  <thead>\n",
       "    <tr style=\"text-align: right;\">\n",
       "      <th></th>\n",
       "      <th>Ticket #</th>\n",
       "    </tr>\n",
       "    <tr>\n",
       "      <th>Date_time</th>\n",
       "      <th></th>\n",
       "    </tr>\n",
       "  </thead>\n",
       "  <tbody>\n",
       "    <tr>\n",
       "      <th>April</th>\n",
       "      <td>545</td>\n",
       "    </tr>\n",
       "    <tr>\n",
       "      <th>June</th>\n",
       "      <td>1280</td>\n",
       "    </tr>\n",
       "    <tr>\n",
       "      <th>May</th>\n",
       "      <td>399</td>\n",
       "    </tr>\n",
       "  </tbody>\n",
       "</table>\n",
       "</div>"
      ],
      "text/plain": [
       "           Ticket #\n",
       "Date_time          \n",
       "April           545\n",
       "June           1280\n",
       "May             399"
      ]
     },
     "execution_count": 9,
     "metadata": {},
     "output_type": "execute_result"
    }
   ],
   "source": [
    "comcast.groupby(comcast.Date_time.dt.month_name()).agg( {'Ticket #': 'count'})#.reset_index()"
   ]
  },
  {
   "cell_type": "markdown",
   "metadata": {},
   "source": [
    "#### Number of complaints per day"
   ]
  },
  {
   "cell_type": "code",
   "execution_count": 10,
   "metadata": {},
   "outputs": [
    {
     "data": {
      "text/html": [
       "<div>\n",
       "<style scoped>\n",
       "    .dataframe tbody tr th:only-of-type {\n",
       "        vertical-align: middle;\n",
       "    }\n",
       "\n",
       "    .dataframe tbody tr th {\n",
       "        vertical-align: top;\n",
       "    }\n",
       "\n",
       "    .dataframe thead th {\n",
       "        text-align: right;\n",
       "    }\n",
       "</style>\n",
       "<table border=\"1\" class=\"dataframe\">\n",
       "  <thead>\n",
       "    <tr style=\"text-align: right;\">\n",
       "      <th></th>\n",
       "      <th>Ticket #</th>\n",
       "    </tr>\n",
       "    <tr>\n",
       "      <th>Date_time</th>\n",
       "      <th></th>\n",
       "    </tr>\n",
       "  </thead>\n",
       "  <tbody>\n",
       "    <tr>\n",
       "      <th>0</th>\n",
       "      <td>296</td>\n",
       "    </tr>\n",
       "    <tr>\n",
       "      <th>1</th>\n",
       "      <td>466</td>\n",
       "    </tr>\n",
       "    <tr>\n",
       "      <th>2</th>\n",
       "      <td>460</td>\n",
       "    </tr>\n",
       "    <tr>\n",
       "      <th>3</th>\n",
       "      <td>366</td>\n",
       "    </tr>\n",
       "    <tr>\n",
       "      <th>4</th>\n",
       "      <td>304</td>\n",
       "    </tr>\n",
       "    <tr>\n",
       "      <th>5</th>\n",
       "      <td>194</td>\n",
       "    </tr>\n",
       "    <tr>\n",
       "      <th>6</th>\n",
       "      <td>138</td>\n",
       "    </tr>\n",
       "  </tbody>\n",
       "</table>\n",
       "</div>"
      ],
      "text/plain": [
       "           Ticket #\n",
       "Date_time          \n",
       "0               296\n",
       "1               466\n",
       "2               460\n",
       "3               366\n",
       "4               304\n",
       "5               194\n",
       "6               138"
      ]
     },
     "execution_count": 10,
     "metadata": {},
     "output_type": "execute_result"
    }
   ],
   "source": [
    "comcast.groupby(comcast.Date_time.dt.weekday).agg( {'Ticket #': 'count'})#.reset_index()"
   ]
  },
  {
   "cell_type": "code",
   "execution_count": 11,
   "metadata": {},
   "outputs": [
    {
     "data": {
      "text/html": [
       "<div>\n",
       "<style scoped>\n",
       "    .dataframe tbody tr th:only-of-type {\n",
       "        vertical-align: middle;\n",
       "    }\n",
       "\n",
       "    .dataframe tbody tr th {\n",
       "        vertical-align: top;\n",
       "    }\n",
       "\n",
       "    .dataframe thead th {\n",
       "        text-align: right;\n",
       "    }\n",
       "</style>\n",
       "<table border=\"1\" class=\"dataframe\">\n",
       "  <thead>\n",
       "    <tr style=\"text-align: right;\">\n",
       "      <th></th>\n",
       "      <th>Ticket #</th>\n",
       "    </tr>\n",
       "    <tr>\n",
       "      <th>Date_time</th>\n",
       "      <th></th>\n",
       "    </tr>\n",
       "  </thead>\n",
       "  <tbody>\n",
       "    <tr>\n",
       "      <th>Friday</th>\n",
       "      <td>304</td>\n",
       "    </tr>\n",
       "    <tr>\n",
       "      <th>Monday</th>\n",
       "      <td>296</td>\n",
       "    </tr>\n",
       "    <tr>\n",
       "      <th>Saturday</th>\n",
       "      <td>194</td>\n",
       "    </tr>\n",
       "    <tr>\n",
       "      <th>Sunday</th>\n",
       "      <td>138</td>\n",
       "    </tr>\n",
       "    <tr>\n",
       "      <th>Thursday</th>\n",
       "      <td>366</td>\n",
       "    </tr>\n",
       "    <tr>\n",
       "      <th>Tuesday</th>\n",
       "      <td>466</td>\n",
       "    </tr>\n",
       "    <tr>\n",
       "      <th>Wednesday</th>\n",
       "      <td>460</td>\n",
       "    </tr>\n",
       "  </tbody>\n",
       "</table>\n",
       "</div>"
      ],
      "text/plain": [
       "           Ticket #\n",
       "Date_time          \n",
       "Friday          304\n",
       "Monday          296\n",
       "Saturday        194\n",
       "Sunday          138\n",
       "Thursday        366\n",
       "Tuesday         466\n",
       "Wednesday       460"
      ]
     },
     "execution_count": 11,
     "metadata": {},
     "output_type": "execute_result"
    }
   ],
   "source": [
    "comcast.groupby(comcast.Date_time.dt.day_name()).agg( {'Ticket #': 'count'})#.reset_index()"
   ]
  },
  {
   "cell_type": "markdown",
   "metadata": {},
   "source": [
    "#### Frequency of complaint type\n",
    "\n",
    "Where is complaint type column?"
   ]
  },
  {
   "cell_type": "code",
   "execution_count": 12,
   "metadata": {},
   "outputs": [
    {
     "data": {
      "text/html": [
       "<div>\n",
       "<style scoped>\n",
       "    .dataframe tbody tr th:only-of-type {\n",
       "        vertical-align: middle;\n",
       "    }\n",
       "\n",
       "    .dataframe tbody tr th {\n",
       "        vertical-align: top;\n",
       "    }\n",
       "\n",
       "    .dataframe thead th {\n",
       "        text-align: right;\n",
       "    }\n",
       "</style>\n",
       "<table border=\"1\" class=\"dataframe\">\n",
       "  <thead>\n",
       "    <tr style=\"text-align: right;\">\n",
       "      <th></th>\n",
       "      <th>Count</th>\n",
       "    </tr>\n",
       "    <tr>\n",
       "      <th>Received Via</th>\n",
       "      <th></th>\n",
       "    </tr>\n",
       "  </thead>\n",
       "  <tbody>\n",
       "    <tr>\n",
       "      <th>Customer Care Call</th>\n",
       "      <td>1119</td>\n",
       "    </tr>\n",
       "    <tr>\n",
       "      <th>Internet</th>\n",
       "      <td>1105</td>\n",
       "    </tr>\n",
       "  </tbody>\n",
       "</table>\n",
       "</div>"
      ],
      "text/plain": [
       "                    Count\n",
       "Received Via             \n",
       "Customer Care Call   1119\n",
       "Internet             1105"
      ]
     },
     "execution_count": 12,
     "metadata": {},
     "output_type": "execute_result"
    }
   ],
   "source": [
    "comcast.groupby('Received Via')['Ticket #'].agg(Count= 'count')#.reset_index()"
   ]
  },
  {
   "cell_type": "code",
   "execution_count": 13,
   "metadata": {},
   "outputs": [
    {
     "data": {
      "image/png": "[encoded data removed]",
      "text/plain": [
       "<Figure size 432x288 with 1 Axes>"
      ]
     },
     "metadata": {
      "needs_background": "light"
     },
     "output_type": "display_data"
    }
   ],
   "source": [
    "comcast.groupby('Customer Complaint')['Ticket #'].agg(Count= 'count').sort_values(['Count'],ascending = False).head(20).plot.barh()\n",
    "plt.title(\"Top complaints\")\n",
    "plt.show()"
   ]
  },
  {
   "cell_type": "markdown",
   "metadata": {},
   "source": [
    "Internet issue seems most frequent"
   ]
  },
  {
   "cell_type": "markdown",
   "metadata": {},
   "source": [
    "#### New categorical variable with values open and close"
   ]
  },
  {
   "cell_type": "code",
   "execution_count": 14,
   "metadata": {},
   "outputs": [],
   "source": [
    "# comcast['Open'] = \"Open\" if (comcast.Status==\"Open\" or comcast.Status==\"Pending\")\n",
    "comcast['Status_binary'] = np.where((comcast.Status=='Open') | (comcast.Status=='Pending'), 'Open', 'Closed')"
   ]
  },
  {
   "cell_type": "code",
   "execution_count": 15,
   "metadata": {},
   "outputs": [
    {
     "data": {
      "text/html": [
       "<div>\n",
       "<style scoped>\n",
       "    .dataframe tbody tr th:only-of-type {\n",
       "        vertical-align: middle;\n",
       "    }\n",
       "\n",
       "    .dataframe tbody tr th {\n",
       "        vertical-align: top;\n",
       "    }\n",
       "\n",
       "    .dataframe thead th {\n",
       "        text-align: right;\n",
       "    }\n",
       "</style>\n",
       "<table border=\"1\" class=\"dataframe\">\n",
       "  <thead>\n",
       "    <tr style=\"text-align: right;\">\n",
       "      <th></th>\n",
       "      <th>count</th>\n",
       "    </tr>\n",
       "    <tr>\n",
       "      <th>Status_binary</th>\n",
       "      <th></th>\n",
       "    </tr>\n",
       "  </thead>\n",
       "  <tbody>\n",
       "    <tr>\n",
       "      <th>Closed</th>\n",
       "      <td>1707</td>\n",
       "    </tr>\n",
       "    <tr>\n",
       "      <th>Open</th>\n",
       "      <td>517</td>\n",
       "    </tr>\n",
       "  </tbody>\n",
       "</table>\n",
       "</div>"
      ],
      "text/plain": [
       "               count\n",
       "Status_binary       \n",
       "Closed          1707\n",
       "Open             517"
      ]
     },
     "execution_count": 15,
     "metadata": {},
     "output_type": "execute_result"
    }
   ],
   "source": [
    "comcast.groupby('Status_binary')['Status_binary'].agg(count='count')"
   ]
  },
  {
   "cell_type": "code",
   "execution_count": 16,
   "metadata": {},
   "outputs": [
    {
     "data": {
      "text/html": [
       "<div>\n",
       "<style scoped>\n",
       "    .dataframe tbody tr th:only-of-type {\n",
       "        vertical-align: middle;\n",
       "    }\n",
       "\n",
       "    .dataframe tbody tr th {\n",
       "        vertical-align: top;\n",
       "    }\n",
       "\n",
       "    .dataframe thead th {\n",
       "        text-align: right;\n",
       "    }\n",
       "</style>\n",
       "<table border=\"1\" class=\"dataframe\">\n",
       "  <thead>\n",
       "    <tr style=\"text-align: right;\">\n",
       "      <th></th>\n",
       "      <th>count</th>\n",
       "    </tr>\n",
       "    <tr>\n",
       "      <th>Status</th>\n",
       "      <th></th>\n",
       "    </tr>\n",
       "  </thead>\n",
       "  <tbody>\n",
       "    <tr>\n",
       "      <th>Closed</th>\n",
       "      <td>734</td>\n",
       "    </tr>\n",
       "    <tr>\n",
       "      <th>Open</th>\n",
       "      <td>363</td>\n",
       "    </tr>\n",
       "    <tr>\n",
       "      <th>Pending</th>\n",
       "      <td>154</td>\n",
       "    </tr>\n",
       "    <tr>\n",
       "      <th>Solved</th>\n",
       "      <td>973</td>\n",
       "    </tr>\n",
       "  </tbody>\n",
       "</table>\n",
       "</div>"
      ],
      "text/plain": [
       "         count\n",
       "Status        \n",
       "Closed     734\n",
       "Open       363\n",
       "Pending    154\n",
       "Solved     973"
      ]
     },
     "execution_count": 16,
     "metadata": {},
     "output_type": "execute_result"
    }
   ],
   "source": [
    "comcast.groupby('Status')['Status'].agg(count='count')"
   ]
  },
  {
   "cell_type": "markdown",
   "metadata": {},
   "source": [
    "#### Statewise complaint types"
   ]
  },
  {
   "cell_type": "code",
   "execution_count": 17,
   "metadata": {},
   "outputs": [
    {
     "data": {
      "image/png": "[encoded data removed]",
      "text/plain": [
       "<Figure size 720x720 with 1 Axes>"
      ]
     },
     "metadata": {
      "needs_background": "light"
     },
     "output_type": "display_data"
    }
   ],
   "source": [
    "plt.rcParams[\"figure.figsize\"] = (10,10)\n",
    "comcast.groupby(['State','Status_binary'])['Ticket #'].agg(Count='count').sort_values(['Count']).unstack().plot(kind='barh', stacked=True)\n",
    "plt.title(\"Statewise complaints - Closed or Open?\")\n",
    "plt.show()"
   ]
  },
  {
   "cell_type": "markdown",
   "metadata": {},
   "source": [
    "#### Which state has maximum complaints?\n",
    "ANS:"
   ]
  },
  {
   "cell_type": "markdown",
   "metadata": {},
   "source": [
    "#### State having highest % of unresolved/pending complaints?"
   ]
  },
  {
   "cell_type": "code",
   "execution_count": 18,
   "metadata": {},
   "outputs": [
    {
     "data": {
      "image/png": "[encoded data removed]",
      "text/plain": [
       "<Figure size 720x720 with 1 Axes>"
      ]
     },
     "metadata": {
      "needs_background": "light"
     },
     "output_type": "display_data"
    }
   ],
   "source": [
    "## Number plot\n",
    "plt.rcParams[\"figure.figsize\"] = (10,10)\n",
    "comcast.groupby(['State','Status'])['Ticket #'].agg(Count='count').unstack().\\\n",
    "    plot(kind='barh', stacked=True)\n",
    "plt.title(\"Number of complaint in each status per state\")\n",
    "plt.show()"
   ]
  },
  {
   "cell_type": "code",
   "execution_count": 19,
   "metadata": {},
   "outputs": [
    {
     "data": {
      "text/html": [
       "<div>\n",
       "<style scoped>\n",
       "    .dataframe tbody tr th:only-of-type {\n",
       "        vertical-align: middle;\n",
       "    }\n",
       "\n",
       "    .dataframe tbody tr th {\n",
       "        vertical-align: top;\n",
       "    }\n",
       "\n",
       "    .dataframe thead tr th {\n",
       "        text-align: left;\n",
       "    }\n",
       "\n",
       "    .dataframe thead tr:last-of-type th {\n",
       "        text-align: right;\n",
       "    }\n",
       "</style>\n",
       "<table border=\"1\" class=\"dataframe\">\n",
       "  <thead>\n",
       "    <tr>\n",
       "      <th></th>\n",
       "      <th colspan=\"4\" halign=\"left\">Count</th>\n",
       "    </tr>\n",
       "    <tr>\n",
       "      <th>Status</th>\n",
       "      <th>Closed</th>\n",
       "      <th>Open</th>\n",
       "      <th>Pending</th>\n",
       "      <th>Solved</th>\n",
       "    </tr>\n",
       "    <tr>\n",
       "      <th>State</th>\n",
       "      <th></th>\n",
       "      <th></th>\n",
       "      <th></th>\n",
       "      <th></th>\n",
       "    </tr>\n",
       "  </thead>\n",
       "  <tbody>\n",
       "    <tr>\n",
       "      <th>Alabama</th>\n",
       "      <td>30.769231</td>\n",
       "      <td>15.384615</td>\n",
       "      <td>19.230769</td>\n",
       "      <td>34.615385</td>\n",
       "    </tr>\n",
       "    <tr>\n",
       "      <th>Arizona</th>\n",
       "      <td>30.000000</td>\n",
       "      <td>10.000000</td>\n",
       "      <td>20.000000</td>\n",
       "      <td>40.000000</td>\n",
       "    </tr>\n",
       "    <tr>\n",
       "      <th>Arkansas</th>\n",
       "      <td>16.666667</td>\n",
       "      <td>NaN</td>\n",
       "      <td>NaN</td>\n",
       "      <td>83.333333</td>\n",
       "    </tr>\n",
       "    <tr>\n",
       "      <th>California</th>\n",
       "      <td>32.727273</td>\n",
       "      <td>21.363636</td>\n",
       "      <td>6.363636</td>\n",
       "      <td>39.545455</td>\n",
       "    </tr>\n",
       "    <tr>\n",
       "      <th>Colorado</th>\n",
       "      <td>28.750000</td>\n",
       "      <td>15.000000</td>\n",
       "      <td>12.500000</td>\n",
       "      <td>43.750000</td>\n",
       "    </tr>\n",
       "    <tr>\n",
       "      <th>Connecticut</th>\n",
       "      <td>25.000000</td>\n",
       "      <td>16.666667</td>\n",
       "      <td>8.333333</td>\n",
       "      <td>50.000000</td>\n",
       "    </tr>\n",
       "    <tr>\n",
       "      <th>Delaware</th>\n",
       "      <td>16.666667</td>\n",
       "      <td>25.000000</td>\n",
       "      <td>8.333333</td>\n",
       "      <td>50.000000</td>\n",
       "    </tr>\n",
       "    <tr>\n",
       "      <th>District Of Columbia</th>\n",
       "      <td>31.250000</td>\n",
       "      <td>6.250000</td>\n",
       "      <td>6.250000</td>\n",
       "      <td>56.250000</td>\n",
       "    </tr>\n",
       "    <tr>\n",
       "      <th>District of Columbia</th>\n",
       "      <td>NaN</td>\n",
       "      <td>NaN</td>\n",
       "      <td>NaN</td>\n",
       "      <td>100.000000</td>\n",
       "    </tr>\n",
       "    <tr>\n",
       "      <th>Florida</th>\n",
       "      <td>41.666667</td>\n",
       "      <td>14.583333</td>\n",
       "      <td>1.666667</td>\n",
       "      <td>42.083333</td>\n",
       "    </tr>\n",
       "    <tr>\n",
       "      <th>Georgia</th>\n",
       "      <td>28.472222</td>\n",
       "      <td>12.152778</td>\n",
       "      <td>15.625000</td>\n",
       "      <td>43.750000</td>\n",
       "    </tr>\n",
       "    <tr>\n",
       "      <th>Illinois</th>\n",
       "      <td>34.756098</td>\n",
       "      <td>14.024390</td>\n",
       "      <td>3.658537</td>\n",
       "      <td>47.560976</td>\n",
       "    </tr>\n",
       "    <tr>\n",
       "      <th>Indiana</th>\n",
       "      <td>25.423729</td>\n",
       "      <td>13.559322</td>\n",
       "      <td>1.694915</td>\n",
       "      <td>59.322034</td>\n",
       "    </tr>\n",
       "    <tr>\n",
       "      <th>Iowa</th>\n",
       "      <td>NaN</td>\n",
       "      <td>NaN</td>\n",
       "      <td>NaN</td>\n",
       "      <td>100.000000</td>\n",
       "    </tr>\n",
       "    <tr>\n",
       "      <th>Kansas</th>\n",
       "      <td>50.000000</td>\n",
       "      <td>NaN</td>\n",
       "      <td>50.000000</td>\n",
       "      <td>NaN</td>\n",
       "    </tr>\n",
       "    <tr>\n",
       "      <th>Kentucky</th>\n",
       "      <td>14.285714</td>\n",
       "      <td>NaN</td>\n",
       "      <td>42.857143</td>\n",
       "      <td>42.857143</td>\n",
       "    </tr>\n",
       "    <tr>\n",
       "      <th>Louisiana</th>\n",
       "      <td>38.461538</td>\n",
       "      <td>NaN</td>\n",
       "      <td>7.692308</td>\n",
       "      <td>53.846154</td>\n",
       "    </tr>\n",
       "    <tr>\n",
       "      <th>Maine</th>\n",
       "      <td>20.000000</td>\n",
       "      <td>40.000000</td>\n",
       "      <td>NaN</td>\n",
       "      <td>40.000000</td>\n",
       "    </tr>\n",
       "    <tr>\n",
       "      <th>Maryland</th>\n",
       "      <td>30.769231</td>\n",
       "      <td>16.666667</td>\n",
       "      <td>2.564103</td>\n",
       "      <td>50.000000</td>\n",
       "    </tr>\n",
       "    <tr>\n",
       "      <th>Massachusetts</th>\n",
       "      <td>39.344262</td>\n",
       "      <td>16.393443</td>\n",
       "      <td>1.639344</td>\n",
       "      <td>42.622951</td>\n",
       "    </tr>\n",
       "    <tr>\n",
       "      <th>Michigan</th>\n",
       "      <td>39.130435</td>\n",
       "      <td>15.652174</td>\n",
       "      <td>4.347826</td>\n",
       "      <td>40.869565</td>\n",
       "    </tr>\n",
       "    <tr>\n",
       "      <th>Minnesota</th>\n",
       "      <td>27.272727</td>\n",
       "      <td>6.060606</td>\n",
       "      <td>6.060606</td>\n",
       "      <td>60.606061</td>\n",
       "    </tr>\n",
       "    <tr>\n",
       "      <th>Mississippi</th>\n",
       "      <td>20.512821</td>\n",
       "      <td>23.076923</td>\n",
       "      <td>17.948718</td>\n",
       "      <td>38.461538</td>\n",
       "    </tr>\n",
       "    <tr>\n",
       "      <th>Missouri</th>\n",
       "      <td>50.000000</td>\n",
       "      <td>25.000000</td>\n",
       "      <td>NaN</td>\n",
       "      <td>25.000000</td>\n",
       "    </tr>\n",
       "    <tr>\n",
       "      <th>Montana</th>\n",
       "      <td>100.000000</td>\n",
       "      <td>NaN</td>\n",
       "      <td>NaN</td>\n",
       "      <td>NaN</td>\n",
       "    </tr>\n",
       "    <tr>\n",
       "      <th>Nevada</th>\n",
       "      <td>100.000000</td>\n",
       "      <td>NaN</td>\n",
       "      <td>NaN</td>\n",
       "      <td>NaN</td>\n",
       "    </tr>\n",
       "    <tr>\n",
       "      <th>New Hampshire</th>\n",
       "      <td>33.333333</td>\n",
       "      <td>25.000000</td>\n",
       "      <td>8.333333</td>\n",
       "      <td>33.333333</td>\n",
       "    </tr>\n",
       "    <tr>\n",
       "      <th>New Jersey</th>\n",
       "      <td>30.666667</td>\n",
       "      <td>22.666667</td>\n",
       "      <td>2.666667</td>\n",
       "      <td>44.000000</td>\n",
       "    </tr>\n",
       "    <tr>\n",
       "      <th>New Mexico</th>\n",
       "      <td>33.333333</td>\n",
       "      <td>20.000000</td>\n",
       "      <td>6.666667</td>\n",
       "      <td>40.000000</td>\n",
       "    </tr>\n",
       "    <tr>\n",
       "      <th>New York</th>\n",
       "      <td>33.333333</td>\n",
       "      <td>NaN</td>\n",
       "      <td>NaN</td>\n",
       "      <td>66.666667</td>\n",
       "    </tr>\n",
       "    <tr>\n",
       "      <th>North Carolina</th>\n",
       "      <td>66.666667</td>\n",
       "      <td>NaN</td>\n",
       "      <td>NaN</td>\n",
       "      <td>33.333333</td>\n",
       "    </tr>\n",
       "    <tr>\n",
       "      <th>Ohio</th>\n",
       "      <td>66.666667</td>\n",
       "      <td>NaN</td>\n",
       "      <td>NaN</td>\n",
       "      <td>33.333333</td>\n",
       "    </tr>\n",
       "    <tr>\n",
       "      <th>Oregon</th>\n",
       "      <td>18.367347</td>\n",
       "      <td>20.408163</td>\n",
       "      <td>6.122449</td>\n",
       "      <td>55.102041</td>\n",
       "    </tr>\n",
       "    <tr>\n",
       "      <th>Pennsylvania</th>\n",
       "      <td>42.307692</td>\n",
       "      <td>10.769231</td>\n",
       "      <td>4.615385</td>\n",
       "      <td>42.307692</td>\n",
       "    </tr>\n",
       "    <tr>\n",
       "      <th>Rhode Island</th>\n",
       "      <td>100.000000</td>\n",
       "      <td>NaN</td>\n",
       "      <td>NaN</td>\n",
       "      <td>NaN</td>\n",
       "    </tr>\n",
       "    <tr>\n",
       "      <th>South Carolina</th>\n",
       "      <td>38.888889</td>\n",
       "      <td>11.111111</td>\n",
       "      <td>5.555556</td>\n",
       "      <td>44.444444</td>\n",
       "    </tr>\n",
       "    <tr>\n",
       "      <th>Tennessee</th>\n",
       "      <td>27.272727</td>\n",
       "      <td>23.076923</td>\n",
       "      <td>9.790210</td>\n",
       "      <td>39.860140</td>\n",
       "    </tr>\n",
       "    <tr>\n",
       "      <th>Texas</th>\n",
       "      <td>28.169014</td>\n",
       "      <td>25.352113</td>\n",
       "      <td>5.633803</td>\n",
       "      <td>40.845070</td>\n",
       "    </tr>\n",
       "    <tr>\n",
       "      <th>Utah</th>\n",
       "      <td>31.818182</td>\n",
       "      <td>27.272727</td>\n",
       "      <td>NaN</td>\n",
       "      <td>40.909091</td>\n",
       "    </tr>\n",
       "    <tr>\n",
       "      <th>Vermont</th>\n",
       "      <td>NaN</td>\n",
       "      <td>33.333333</td>\n",
       "      <td>NaN</td>\n",
       "      <td>66.666667</td>\n",
       "    </tr>\n",
       "    <tr>\n",
       "      <th>Virginia</th>\n",
       "      <td>35.000000</td>\n",
       "      <td>13.333333</td>\n",
       "      <td>5.000000</td>\n",
       "      <td>46.666667</td>\n",
       "    </tr>\n",
       "    <tr>\n",
       "      <th>Washington</th>\n",
       "      <td>35.714286</td>\n",
       "      <td>18.367347</td>\n",
       "      <td>5.102041</td>\n",
       "      <td>40.816327</td>\n",
       "    </tr>\n",
       "    <tr>\n",
       "      <th>West Virginia</th>\n",
       "      <td>54.545455</td>\n",
       "      <td>27.272727</td>\n",
       "      <td>NaN</td>\n",
       "      <td>18.181818</td>\n",
       "    </tr>\n",
       "  </tbody>\n",
       "</table>\n",
       "</div>"
      ],
      "text/plain": [
       "                           Count                                  \n",
       "Status                    Closed       Open    Pending      Solved\n",
       "State                                                             \n",
       "Alabama                30.769231  15.384615  19.230769   34.615385\n",
       "Arizona                30.000000  10.000000  20.000000   40.000000\n",
       "Arkansas               16.666667        NaN        NaN   83.333333\n",
       "California             32.727273  21.363636   6.363636   39.545455\n",
       "Colorado               28.750000  15.000000  12.500000   43.750000\n",
       "Connecticut            25.000000  16.666667   8.333333   50.000000\n",
       "Delaware               16.666667  25.000000   8.333333   50.000000\n",
       "District Of Columbia   31.250000   6.250000   6.250000   56.250000\n",
       "District of Columbia         NaN        NaN        NaN  100.000000\n",
       "Florida                41.666667  14.583333   1.666667   42.083333\n",
       "Georgia                28.472222  12.152778  15.625000   43.750000\n",
       "Illinois               34.756098  14.024390   3.658537   47.560976\n",
       "Indiana                25.423729  13.559322   1.694915   59.322034\n",
       "Iowa                         NaN        NaN        NaN  100.000000\n",
       "Kansas                 50.000000        NaN  50.000000         NaN\n",
       "Kentucky               14.285714        NaN  42.857143   42.857143\n",
       "Louisiana              38.461538        NaN   7.692308   53.846154\n",
       "Maine                  20.000000  40.000000        NaN   40.000000\n",
       "Maryland               30.769231  16.666667   2.564103   50.000000\n",
       "Massachusetts          39.344262  16.393443   1.639344   42.622951\n",
       "Michigan               39.130435  15.652174   4.347826   40.869565\n",
       "Minnesota              27.272727   6.060606   6.060606   60.606061\n",
       "Mississippi            20.512821  23.076923  17.948718   38.461538\n",
       "Missouri               50.000000  25.000000        NaN   25.000000\n",
       "Montana               100.000000        NaN        NaN         NaN\n",
       "Nevada                100.000000        NaN        NaN         NaN\n",
       "New Hampshire          33.333333  25.000000   8.333333   33.333333\n",
       "New Jersey             30.666667  22.666667   2.666667   44.000000\n",
       "New Mexico             33.333333  20.000000   6.666667   40.000000\n",
       "New York               33.333333        NaN        NaN   66.666667\n",
       "North Carolina         66.666667        NaN        NaN   33.333333\n",
       "Ohio                   66.666667        NaN        NaN   33.333333\n",
       "Oregon                 18.367347  20.408163   6.122449   55.102041\n",
       "Pennsylvania           42.307692  10.769231   4.615385   42.307692\n",
       "Rhode Island          100.000000        NaN        NaN         NaN\n",
       "South Carolina         38.888889  11.111111   5.555556   44.444444\n",
       "Tennessee              27.272727  23.076923   9.790210   39.860140\n",
       "Texas                  28.169014  25.352113   5.633803   40.845070\n",
       "Utah                   31.818182  27.272727        NaN   40.909091\n",
       "Vermont                      NaN  33.333333        NaN   66.666667\n",
       "Virginia               35.000000  13.333333   5.000000   46.666667\n",
       "Washington             35.714286  18.367347   5.102041   40.816327\n",
       "West Virginia          54.545455  27.272727        NaN   18.181818"
      ]
     },
     "execution_count": 19,
     "metadata": {},
     "output_type": "execute_result"
    }
   ],
   "source": [
    "## Percentage table\n",
    "comcast.groupby(['State','Status'])['Ticket #'].agg(Count='count').groupby(level=0).apply(lambda x: 100 * x / float(x.sum())).\\\n",
    "    unstack()"
   ]
  },
  {
   "cell_type": "code",
   "execution_count": 20,
   "metadata": {},
   "outputs": [
    {
     "data": {
      "image/png": "[encoded data removed]",
      "text/plain": [
       "<Figure size 720x720 with 1 Axes>"
      ]
     },
     "metadata": {
      "needs_background": "light"
     },
     "output_type": "display_data"
    }
   ],
   "source": [
    "## Percentage plot (above table in plot)\n",
    "plt.rcParams[\"figure.figsize\"] = (10,10)\n",
    "comcast.groupby(['State','Status'])['Ticket #'].agg(Count='count').groupby(level=0).apply(lambda x: 100 * x / float(x.sum())).\\\n",
    "    unstack().\\\n",
    "    plot(kind='barh', stacked=True)\n",
    "plt.title(\"Percentage of each status statewise\")\n",
    "plt.show()"
   ]
  },
  {
   "cell_type": "markdown",
   "metadata": {},
   "source": [
    "#### Provide the % of complaints resolved till date, which were received through internet and customer care call"
   ]
  },
  {
   "cell_type": "markdown",
   "metadata": {},
   "source": [
    "NOTE: All complaints received by 2 modes only - internet and customer call\n"
   ]
  },
  {
   "cell_type": "code",
   "execution_count": 21,
   "metadata": {},
   "outputs": [
    {
     "data": {
      "text/plain": [
       "State\n",
       "Alabama                  34.615385\n",
       "Arizona                  40.000000\n",
       "Arkansas                 83.333333\n",
       "California               39.545455\n",
       "Colorado                 43.750000\n",
       "Connecticut              50.000000\n",
       "Delaware                 50.000000\n",
       "District Of Columbia     56.250000\n",
       "District of Columbia    100.000000\n",
       "Florida                  42.083333\n",
       "Georgia                  43.750000\n",
       "Illinois                 47.560976\n",
       "Indiana                  59.322034\n",
       "Iowa                    100.000000\n",
       "Kansas                         NaN\n",
       "Kentucky                 42.857143\n",
       "Louisiana                53.846154\n",
       "Maine                    40.000000\n",
       "Maryland                 50.000000\n",
       "Massachusetts            42.622951\n",
       "Michigan                 40.869565\n",
       "Minnesota                60.606061\n",
       "Mississippi              38.461538\n",
       "Missouri                 25.000000\n",
       "Montana                        NaN\n",
       "Nevada                         NaN\n",
       "New Hampshire            33.333333\n",
       "New Jersey               44.000000\n",
       "New Mexico               40.000000\n",
       "New York                 66.666667\n",
       "North Carolina           33.333333\n",
       "Ohio                     33.333333\n",
       "Oregon                   55.102041\n",
       "Pennsylvania             42.307692\n",
       "Rhode Island                   NaN\n",
       "South Carolina           44.444444\n",
       "Tennessee                39.860140\n",
       "Texas                    40.845070\n",
       "Utah                     40.909091\n",
       "Vermont                  66.666667\n",
       "Virginia                 46.666667\n",
       "Washington               40.816327\n",
       "West Virginia            18.181818\n",
       "Name: Solved, dtype: float64"
      ]
     },
     "execution_count": 21,
     "metadata": {},
     "output_type": "execute_result"
    }
   ],
   "source": [
    "## Percentage of resolved complaints per state table\n",
    "comcast.groupby(['State','Status'])['Ticket #'].agg(Count='count').groupby(level=0).apply(lambda x: 100 * x / float(x.sum())).\\\n",
    "    unstack()[\"Count\"][\"Solved\"]"
   ]
  },
  {
   "cell_type": "code",
   "execution_count": 22,
   "metadata": {},
   "outputs": [
    {
     "data": {
      "image/png": "[encoded data removed]",
      "text/plain": [
       "<Figure size 720x720 with 1 Axes>"
      ]
     },
     "metadata": {
      "needs_background": "light"
     },
     "output_type": "display_data"
    }
   ],
   "source": [
    "## Percentage of resolved complaints per state table\n",
    "comcast.groupby(['State','Status'])['Ticket #'].agg(Count='count').groupby(level=0).apply(lambda x: 100 * x / float(x.sum())).\\\n",
    "    unstack()[\"Count\"][\"Solved\"].sort_values().plot(kind='barh', stacked=True)\n",
    "plt.title(\"Resolved complaints per state\")\n",
    "plt.show()"
   ]
  },
  {
   "cell_type": "code",
   "execution_count": null,
   "metadata": {},
   "outputs": [],
   "source": []
  },
  {
   "cell_type": "code",
   "execution_count": null,
   "metadata": {},
   "outputs": [],
   "source": []
  },
  {
   "cell_type": "code",
   "execution_count": null,
   "metadata": {},
   "outputs": [],
   "source": []
  }
 ],
 "metadata": {
  "kernelspec": {
   "display_name": "Python 3",
   "language": "python",
   "name": "python3"
  },
  "language_info": {
   "codemirror_mode": {
    "name": "ipython",
    "version": 3
   },
   "file_extension": ".py",
   "mimetype": "text/x-python",
   "name": "python",
   "nbconvert_exporter": "python",
   "pygments_lexer": "ipython3",
   "version": "3.7.6"
  }
 },
 "nbformat": 4,
 "nbformat_minor": 4
}
