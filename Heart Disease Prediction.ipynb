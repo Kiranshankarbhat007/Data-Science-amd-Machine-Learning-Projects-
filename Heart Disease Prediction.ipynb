{
 "cells": [
  {
   "cell_type": "code",
   "execution_count": 99,
   "metadata": {},
   "outputs": [],
   "source": [
    "import pandas as pd\n",
    "import numpy as np\n",
    "import matplotlib.pyplot as plt\n",
    "import seaborn as sns\n",
    "%matplotlib inline"
   ]
  },
  {
   "cell_type": "code",
   "execution_count": 100,
   "metadata": {},
   "outputs": [],
   "source": [
    "data = pd.read_csv('heart.csv')"
   ]
  },
  {
   "cell_type": "code",
   "execution_count": 101,
   "metadata": {},
   "outputs": [
    {
     "data": {
      "text/html": [
       "<div>\n",
       "<style scoped>\n",
       "    .dataframe tbody tr th:only-of-type {\n",
       "        vertical-align: middle;\n",
       "    }\n",
       "\n",
       "    .dataframe tbody tr th {\n",
       "        vertical-align: top;\n",
       "    }\n",
       "\n",
       "    .dataframe thead th {\n",
       "        text-align: right;\n",
       "    }\n",
       "</style>\n",
       "<table border=\"1\" class=\"dataframe\">\n",
       "  <thead>\n",
       "    <tr style=\"text-align: right;\">\n",
       "      <th></th>\n",
       "      <th>age</th>\n",
       "      <th>sex</th>\n",
       "      <th>cp</th>\n",
       "      <th>trestbps</th>\n",
       "      <th>chol</th>\n",
       "      <th>fbs</th>\n",
       "      <th>restecg</th>\n",
       "      <th>thalach</th>\n",
       "      <th>exang</th>\n",
       "      <th>oldpeak</th>\n",
       "      <th>slope</th>\n",
       "      <th>ca</th>\n",
       "      <th>thal</th>\n",
       "      <th>target</th>\n",
       "    </tr>\n",
       "  </thead>\n",
       "  <tbody>\n",
       "    <tr>\n",
       "      <th>0</th>\n",
       "      <td>63</td>\n",
       "      <td>1</td>\n",
       "      <td>3</td>\n",
       "      <td>145</td>\n",
       "      <td>233</td>\n",
       "      <td>1</td>\n",
       "      <td>0</td>\n",
       "      <td>150</td>\n",
       "      <td>0</td>\n",
       "      <td>2.3</td>\n",
       "      <td>0</td>\n",
       "      <td>0</td>\n",
       "      <td>1</td>\n",
       "      <td>1</td>\n",
       "    </tr>\n",
       "    <tr>\n",
       "      <th>1</th>\n",
       "      <td>37</td>\n",
       "      <td>1</td>\n",
       "      <td>2</td>\n",
       "      <td>130</td>\n",
       "      <td>250</td>\n",
       "      <td>0</td>\n",
       "      <td>1</td>\n",
       "      <td>187</td>\n",
       "      <td>0</td>\n",
       "      <td>3.5</td>\n",
       "      <td>0</td>\n",
       "      <td>0</td>\n",
       "      <td>2</td>\n",
       "      <td>1</td>\n",
       "    </tr>\n",
       "    <tr>\n",
       "      <th>2</th>\n",
       "      <td>41</td>\n",
       "      <td>0</td>\n",
       "      <td>1</td>\n",
       "      <td>130</td>\n",
       "      <td>204</td>\n",
       "      <td>0</td>\n",
       "      <td>0</td>\n",
       "      <td>172</td>\n",
       "      <td>0</td>\n",
       "      <td>1.4</td>\n",
       "      <td>2</td>\n",
       "      <td>0</td>\n",
       "      <td>2</td>\n",
       "      <td>1</td>\n",
       "    </tr>\n",
       "    <tr>\n",
       "      <th>3</th>\n",
       "      <td>56</td>\n",
       "      <td>1</td>\n",
       "      <td>1</td>\n",
       "      <td>120</td>\n",
       "      <td>236</td>\n",
       "      <td>0</td>\n",
       "      <td>1</td>\n",
       "      <td>178</td>\n",
       "      <td>0</td>\n",
       "      <td>0.8</td>\n",
       "      <td>2</td>\n",
       "      <td>0</td>\n",
       "      <td>2</td>\n",
       "      <td>1</td>\n",
       "    </tr>\n",
       "    <tr>\n",
       "      <th>4</th>\n",
       "      <td>57</td>\n",
       "      <td>0</td>\n",
       "      <td>0</td>\n",
       "      <td>120</td>\n",
       "      <td>354</td>\n",
       "      <td>0</td>\n",
       "      <td>1</td>\n",
       "      <td>163</td>\n",
       "      <td>1</td>\n",
       "      <td>0.6</td>\n",
       "      <td>2</td>\n",
       "      <td>0</td>\n",
       "      <td>2</td>\n",
       "      <td>1</td>\n",
       "    </tr>\n",
       "  </tbody>\n",
       "</table>\n",
       "</div>"
      ],
      "text/plain": [
       "   age  sex  cp  trestbps  chol  fbs  restecg  thalach  exang  oldpeak  slope  \\\n",
       "0   63    1   3       145   233    1        0      150      0      2.3      0   \n",
       "1   37    1   2       130   250    0        1      187      0      3.5      0   \n",
       "2   41    0   1       130   204    0        0      172      0      1.4      2   \n",
       "3   56    1   1       120   236    0        1      178      0      0.8      2   \n",
       "4   57    0   0       120   354    0        1      163      1      0.6      2   \n",
       "\n",
       "   ca  thal  target  \n",
       "0   0     1       1  \n",
       "1   0     2       1  \n",
       "2   0     2       1  \n",
       "3   0     2       1  \n",
       "4   0     2       1  "
      ]
     },
     "execution_count": 101,
     "metadata": {},
     "output_type": "execute_result"
    }
   ],
   "source": [
    "data.head()"
   ]
  },
  {
   "cell_type": "markdown",
   "metadata": {},
   "source": [
    "* Here \"cp\" is chest pain type \n",
    "* \"trestbps\" is resting blood pressure (in mm Hg on admission to the hospital)\n",
    "* \"chol\" is serum cholestoral in mg/dl\n",
    "* \"fbs\" is (fasting blood sugar &gt; 120 mg/dl) (1 = true; 0 = false)\n",
    "* \"restecg\" is resting electrocardiographic results\n",
    "* \"thalach\" is maximum heart rate achieved\n",
    "* \"exang\" is exercise induced angina (1 = yes; 0 = no)\n",
    "* \"oldpeak\" is ST depression induced by exercise relative to rest\n"
   ]
  },
  {
   "cell_type": "code",
   "execution_count": 102,
   "metadata": {},
   "outputs": [
    {
     "name": "stdout",
     "output_type": "stream",
     "text": [
      "<class 'pandas.core.frame.DataFrame'>\n",
      "RangeIndex: 303 entries, 0 to 302\n",
      "Data columns (total 14 columns):\n",
      " #   Column    Non-Null Count  Dtype  \n",
      "---  ------    --------------  -----  \n",
      " 0   age       303 non-null    int64  \n",
      " 1   sex       303 non-null    int64  \n",
      " 2   cp        303 non-null    int64  \n",
      " 3   trestbps  303 non-null    int64  \n",
      " 4   chol      303 non-null    int64  \n",
      " 5   fbs       303 non-null    int64  \n",
      " 6   restecg   303 non-null    int64  \n",
      " 7   thalach   303 non-null    int64  \n",
      " 8   exang     303 non-null    int64  \n",
      " 9   oldpeak   303 non-null    float64\n",
      " 10  slope     303 non-null    int64  \n",
      " 11  ca        303 non-null    int64  \n",
      " 12  thal      303 non-null    int64  \n",
      " 13  target    303 non-null    int64  \n",
      "dtypes: float64(1), int64(13)\n",
      "memory usage: 33.3 KB\n"
     ]
    }
   ],
   "source": [
    "data.info()"
   ]
  },
  {
   "cell_type": "code",
   "execution_count": 103,
   "metadata": {},
   "outputs": [
    {
     "data": {
      "text/plain": [
       "(303, 14)"
      ]
     },
     "execution_count": 103,
     "metadata": {},
     "output_type": "execute_result"
    }
   ],
   "source": [
    "data.shape"
   ]
  },
  {
   "cell_type": "code",
   "execution_count": 104,
   "metadata": {},
   "outputs": [
    {
     "data": {
      "text/plain": [
       "Index(['age', 'sex', 'cp', 'trestbps', 'chol', 'fbs', 'restecg', 'thalach',\n",
       "       'exang', 'oldpeak', 'slope', 'ca', 'thal', 'target'],\n",
       "      dtype='object')"
      ]
     },
     "execution_count": 104,
     "metadata": {},
     "output_type": "execute_result"
    }
   ],
   "source": [
    "data.columns"
   ]
  },
  {
   "cell_type": "code",
   "execution_count": 105,
   "metadata": {},
   "outputs": [
    {
     "data": {
      "text/html": [
       "<div>\n",
       "<style scoped>\n",
       "    .dataframe tbody tr th:only-of-type {\n",
       "        vertical-align: middle;\n",
       "    }\n",
       "\n",
       "    .dataframe tbody tr th {\n",
       "        vertical-align: top;\n",
       "    }\n",
       "\n",
       "    .dataframe thead th {\n",
       "        text-align: right;\n",
       "    }\n",
       "</style>\n",
       "<table border=\"1\" class=\"dataframe\">\n",
       "  <thead>\n",
       "    <tr style=\"text-align: right;\">\n",
       "      <th></th>\n",
       "      <th>age</th>\n",
       "      <th>sex</th>\n",
       "      <th>cp</th>\n",
       "      <th>trestbps</th>\n",
       "      <th>chol</th>\n",
       "      <th>fbs</th>\n",
       "      <th>restecg</th>\n",
       "      <th>thalach</th>\n",
       "      <th>exang</th>\n",
       "      <th>oldpeak</th>\n",
       "      <th>slope</th>\n",
       "      <th>ca</th>\n",
       "      <th>thal</th>\n",
       "      <th>target</th>\n",
       "    </tr>\n",
       "  </thead>\n",
       "  <tbody>\n",
       "    <tr>\n",
       "      <th>count</th>\n",
       "      <td>303.000000</td>\n",
       "      <td>303.000000</td>\n",
       "      <td>303.000000</td>\n",
       "      <td>303.000000</td>\n",
       "      <td>303.000000</td>\n",
       "      <td>303.000000</td>\n",
       "      <td>303.000000</td>\n",
       "      <td>303.000000</td>\n",
       "      <td>303.000000</td>\n",
       "      <td>303.000000</td>\n",
       "      <td>303.000000</td>\n",
       "      <td>303.000000</td>\n",
       "      <td>303.000000</td>\n",
       "      <td>303.000000</td>\n",
       "    </tr>\n",
       "    <tr>\n",
       "      <th>mean</th>\n",
       "      <td>54.366337</td>\n",
       "      <td>0.683168</td>\n",
       "      <td>0.966997</td>\n",
       "      <td>131.623762</td>\n",
       "      <td>246.264026</td>\n",
       "      <td>0.148515</td>\n",
       "      <td>0.528053</td>\n",
       "      <td>149.646865</td>\n",
       "      <td>0.326733</td>\n",
       "      <td>1.039604</td>\n",
       "      <td>1.399340</td>\n",
       "      <td>0.729373</td>\n",
       "      <td>2.313531</td>\n",
       "      <td>0.544554</td>\n",
       "    </tr>\n",
       "    <tr>\n",
       "      <th>std</th>\n",
       "      <td>9.082101</td>\n",
       "      <td>0.466011</td>\n",
       "      <td>1.032052</td>\n",
       "      <td>17.538143</td>\n",
       "      <td>51.830751</td>\n",
       "      <td>0.356198</td>\n",
       "      <td>0.525860</td>\n",
       "      <td>22.905161</td>\n",
       "      <td>0.469794</td>\n",
       "      <td>1.161075</td>\n",
       "      <td>0.616226</td>\n",
       "      <td>1.022606</td>\n",
       "      <td>0.612277</td>\n",
       "      <td>0.498835</td>\n",
       "    </tr>\n",
       "    <tr>\n",
       "      <th>min</th>\n",
       "      <td>29.000000</td>\n",
       "      <td>0.000000</td>\n",
       "      <td>0.000000</td>\n",
       "      <td>94.000000</td>\n",
       "      <td>126.000000</td>\n",
       "      <td>0.000000</td>\n",
       "      <td>0.000000</td>\n",
       "      <td>71.000000</td>\n",
       "      <td>0.000000</td>\n",
       "      <td>0.000000</td>\n",
       "      <td>0.000000</td>\n",
       "      <td>0.000000</td>\n",
       "      <td>0.000000</td>\n",
       "      <td>0.000000</td>\n",
       "    </tr>\n",
       "    <tr>\n",
       "      <th>25%</th>\n",
       "      <td>47.500000</td>\n",
       "      <td>0.000000</td>\n",
       "      <td>0.000000</td>\n",
       "      <td>120.000000</td>\n",
       "      <td>211.000000</td>\n",
       "      <td>0.000000</td>\n",
       "      <td>0.000000</td>\n",
       "      <td>133.500000</td>\n",
       "      <td>0.000000</td>\n",
       "      <td>0.000000</td>\n",
       "      <td>1.000000</td>\n",
       "      <td>0.000000</td>\n",
       "      <td>2.000000</td>\n",
       "      <td>0.000000</td>\n",
       "    </tr>\n",
       "    <tr>\n",
       "      <th>50%</th>\n",
       "      <td>55.000000</td>\n",
       "      <td>1.000000</td>\n",
       "      <td>1.000000</td>\n",
       "      <td>130.000000</td>\n",
       "      <td>240.000000</td>\n",
       "      <td>0.000000</td>\n",
       "      <td>1.000000</td>\n",
       "      <td>153.000000</td>\n",
       "      <td>0.000000</td>\n",
       "      <td>0.800000</td>\n",
       "      <td>1.000000</td>\n",
       "      <td>0.000000</td>\n",
       "      <td>2.000000</td>\n",
       "      <td>1.000000</td>\n",
       "    </tr>\n",
       "    <tr>\n",
       "      <th>75%</th>\n",
       "      <td>61.000000</td>\n",
       "      <td>1.000000</td>\n",
       "      <td>2.000000</td>\n",
       "      <td>140.000000</td>\n",
       "      <td>274.500000</td>\n",
       "      <td>0.000000</td>\n",
       "      <td>1.000000</td>\n",
       "      <td>166.000000</td>\n",
       "      <td>1.000000</td>\n",
       "      <td>1.600000</td>\n",
       "      <td>2.000000</td>\n",
       "      <td>1.000000</td>\n",
       "      <td>3.000000</td>\n",
       "      <td>1.000000</td>\n",
       "    </tr>\n",
       "    <tr>\n",
       "      <th>max</th>\n",
       "      <td>77.000000</td>\n",
       "      <td>1.000000</td>\n",
       "      <td>3.000000</td>\n",
       "      <td>200.000000</td>\n",
       "      <td>564.000000</td>\n",
       "      <td>1.000000</td>\n",
       "      <td>2.000000</td>\n",
       "      <td>202.000000</td>\n",
       "      <td>1.000000</td>\n",
       "      <td>6.200000</td>\n",
       "      <td>2.000000</td>\n",
       "      <td>4.000000</td>\n",
       "      <td>3.000000</td>\n",
       "      <td>1.000000</td>\n",
       "    </tr>\n",
       "  </tbody>\n",
       "</table>\n",
       "</div>"
      ],
      "text/plain": [
       "              age         sex          cp    trestbps        chol         fbs  \\\n",
       "count  303.000000  303.000000  303.000000  303.000000  303.000000  303.000000   \n",
       "mean    54.366337    0.683168    0.966997  131.623762  246.264026    0.148515   \n",
       "std      9.082101    0.466011    1.032052   17.538143   51.830751    0.356198   \n",
       "min     29.000000    0.000000    0.000000   94.000000  126.000000    0.000000   \n",
       "25%     47.500000    0.000000    0.000000  120.000000  211.000000    0.000000   \n",
       "50%     55.000000    1.000000    1.000000  130.000000  240.000000    0.000000   \n",
       "75%     61.000000    1.000000    2.000000  140.000000  274.500000    0.000000   \n",
       "max     77.000000    1.000000    3.000000  200.000000  564.000000    1.000000   \n",
       "\n",
       "          restecg     thalach       exang     oldpeak       slope          ca  \\\n",
       "count  303.000000  303.000000  303.000000  303.000000  303.000000  303.000000   \n",
       "mean     0.528053  149.646865    0.326733    1.039604    1.399340    0.729373   \n",
       "std      0.525860   22.905161    0.469794    1.161075    0.616226    1.022606   \n",
       "min      0.000000   71.000000    0.000000    0.000000    0.000000    0.000000   \n",
       "25%      0.000000  133.500000    0.000000    0.000000    1.000000    0.000000   \n",
       "50%      1.000000  153.000000    0.000000    0.800000    1.000000    0.000000   \n",
       "75%      1.000000  166.000000    1.000000    1.600000    2.000000    1.000000   \n",
       "max      2.000000  202.000000    1.000000    6.200000    2.000000    4.000000   \n",
       "\n",
       "             thal      target  \n",
       "count  303.000000  303.000000  \n",
       "mean     2.313531    0.544554  \n",
       "std      0.612277    0.498835  \n",
       "min      0.000000    0.000000  \n",
       "25%      2.000000    0.000000  \n",
       "50%      2.000000    1.000000  \n",
       "75%      3.000000    1.000000  \n",
       "max      3.000000    1.000000  "
      ]
     },
     "execution_count": 105,
     "metadata": {},
     "output_type": "execute_result"
    }
   ],
   "source": [
    "data.describe()"
   ]
  },
  {
   "cell_type": "code",
   "execution_count": 106,
   "metadata": {},
   "outputs": [
    {
     "data": {
      "text/plain": [
       "age         0\n",
       "sex         0\n",
       "cp          0\n",
       "trestbps    0\n",
       "chol        0\n",
       "fbs         0\n",
       "restecg     0\n",
       "thalach     0\n",
       "exang       0\n",
       "oldpeak     0\n",
       "slope       0\n",
       "ca          0\n",
       "thal        0\n",
       "target      0\n",
       "dtype: int64"
      ]
     },
     "execution_count": 106,
     "metadata": {},
     "output_type": "execute_result"
    }
   ],
   "source": [
    "data.isnull().sum()"
   ]
  },
  {
   "cell_type": "code",
   "execution_count": 107,
   "metadata": {},
   "outputs": [
    {
     "data": {
      "text/plain": [
       "1    165\n",
       "0    138\n",
       "Name: target, dtype: int64"
      ]
     },
     "execution_count": 107,
     "metadata": {},
     "output_type": "execute_result"
    }
   ],
   "source": [
    "data['target'].value_counts()"
   ]
  },
  {
   "cell_type": "code",
   "execution_count": 108,
   "metadata": {},
   "outputs": [
    {
     "data": {
      "image/png": "[encoded data removed]",
      "text/plain": [
       "<Figure size 360x360 with 1 Axes>"
      ]
     },
     "metadata": {},
     "output_type": "display_data"
    }
   ],
   "source": [
    "plt.figure(figsize=(5,5))\n",
    "plt.pie(data['target'].value_counts(), labels=('Presence','Absence'), explode = [0.1,0])\n",
    "plt.show()"
   ]
  },
  {
   "cell_type": "code",
   "execution_count": 109,
   "metadata": {},
   "outputs": [
    {
     "data": {
      "text/plain": [
       "Text(0.5, 1.0, 'Data Target')"
      ]
     },
     "execution_count": 109,
     "metadata": {},
     "output_type": "execute_result"
    },
    {
     "data": {
      "image/png": "[encoded data removed]",
      "text/plain": [
       "<Figure size 432x288 with 1 Axes>"
      ]
     },
     "metadata": {
      "needs_background": "light"
     },
     "output_type": "display_data"
    }
   ],
   "source": [
    "data_target = data['target'].map({1:'Presence', 0: 'Absence'})\n",
    "sns.countplot(data_target)\n",
    "plt.title(\"Data Target\")"
   ]
  },
  {
   "cell_type": "code",
   "execution_count": 110,
   "metadata": {},
   "outputs": [
    {
     "data": {
      "text/html": [
       "<div>\n",
       "<style scoped>\n",
       "    .dataframe tbody tr th:only-of-type {\n",
       "        vertical-align: middle;\n",
       "    }\n",
       "\n",
       "    .dataframe tbody tr th {\n",
       "        vertical-align: top;\n",
       "    }\n",
       "\n",
       "    .dataframe thead th {\n",
       "        text-align: right;\n",
       "    }\n",
       "</style>\n",
       "<table border=\"1\" class=\"dataframe\">\n",
       "  <thead>\n",
       "    <tr style=\"text-align: right;\">\n",
       "      <th></th>\n",
       "      <th>age</th>\n",
       "      <th>sex</th>\n",
       "      <th>cp</th>\n",
       "      <th>trestbps</th>\n",
       "      <th>chol</th>\n",
       "      <th>fbs</th>\n",
       "      <th>restecg</th>\n",
       "      <th>thalach</th>\n",
       "      <th>exang</th>\n",
       "      <th>oldpeak</th>\n",
       "      <th>slope</th>\n",
       "      <th>ca</th>\n",
       "      <th>thal</th>\n",
       "      <th>target</th>\n",
       "    </tr>\n",
       "  </thead>\n",
       "  <tbody>\n",
       "    <tr>\n",
       "      <th>0</th>\n",
       "      <td>63</td>\n",
       "      <td>1</td>\n",
       "      <td>3</td>\n",
       "      <td>145</td>\n",
       "      <td>233</td>\n",
       "      <td>1</td>\n",
       "      <td>0</td>\n",
       "      <td>150</td>\n",
       "      <td>0</td>\n",
       "      <td>2.3</td>\n",
       "      <td>0</td>\n",
       "      <td>0</td>\n",
       "      <td>1</td>\n",
       "      <td>1</td>\n",
       "    </tr>\n",
       "    <tr>\n",
       "      <th>1</th>\n",
       "      <td>37</td>\n",
       "      <td>1</td>\n",
       "      <td>2</td>\n",
       "      <td>130</td>\n",
       "      <td>250</td>\n",
       "      <td>0</td>\n",
       "      <td>1</td>\n",
       "      <td>187</td>\n",
       "      <td>0</td>\n",
       "      <td>3.5</td>\n",
       "      <td>0</td>\n",
       "      <td>0</td>\n",
       "      <td>2</td>\n",
       "      <td>1</td>\n",
       "    </tr>\n",
       "  </tbody>\n",
       "</table>\n",
       "</div>"
      ],
      "text/plain": [
       "   age  sex  cp  trestbps  chol  fbs  restecg  thalach  exang  oldpeak  slope  \\\n",
       "0   63    1   3       145   233    1        0      150      0      2.3      0   \n",
       "1   37    1   2       130   250    0        1      187      0      3.5      0   \n",
       "\n",
       "   ca  thal  target  \n",
       "0   0     1       1  \n",
       "1   0     2       1  "
      ]
     },
     "execution_count": 110,
     "metadata": {},
     "output_type": "execute_result"
    }
   ],
   "source": [
    "data.head(2)"
   ]
  },
  {
   "cell_type": "code",
   "execution_count": 111,
   "metadata": {},
   "outputs": [
    {
     "data": {
      "text/plain": [
       "<matplotlib.axes._subplots.AxesSubplot at 0x1cbbfedce08>"
      ]
     },
     "execution_count": 111,
     "metadata": {},
     "output_type": "execute_result"
    },
    {
     "data": {
      "image/png": "[encoded data removed]",
      "text/plain": [
       "<Figure size 432x288 with 1 Axes>"
      ]
     },
     "metadata": {
      "needs_background": "light"
     },
     "output_type": "display_data"
    }
   ],
   "source": [
    "data_target = data['target'].map({1:'Presence', 0: 'Absence'})\n",
    "sns.countplot(data_target,hue=data['sex'])"
   ]
  },
  {
   "cell_type": "code",
   "execution_count": 112,
   "metadata": {},
   "outputs": [
    {
     "data": {
      "text/plain": [
       "<matplotlib.axes._subplots.AxesSubplot at 0x1cbc2477b88>"
      ]
     },
     "execution_count": 112,
     "metadata": {},
     "output_type": "execute_result"
    },
    {
     "data": {
      "image/png": "[encoded data removed]",
      "text/plain": [
       "<Figure size 432x288 with 1 Axes>"
      ]
     },
     "metadata": {
      "needs_background": "light"
     },
     "output_type": "display_data"
    }
   ],
   "source": [
    "sns.distplot(data['age'],kde=True)"
   ]
  },
  {
   "cell_type": "code",
   "execution_count": 113,
   "metadata": {},
   "outputs": [
    {
     "data": {
      "text/plain": [
       "<matplotlib.axes._subplots.AxesSubplot at 0x1cbc03708c8>"
      ]
     },
     "execution_count": 113,
     "metadata": {},
     "output_type": "execute_result"
    },
    {
     "data": {
      "image/png": "[encoded data removed]",
      "text/plain": [
       "<Figure size 432x288 with 1 Axes>"
      ]
     },
     "metadata": {
      "needs_background": "light"
     },
     "output_type": "display_data"
    }
   ],
   "source": [
    "sns.distplot(data['chol'],kde=True)"
   ]
  },
  {
   "cell_type": "markdown",
   "metadata": {},
   "source": [
    "### Train-Test Split"
   ]
  },
  {
   "cell_type": "code",
   "execution_count": 114,
   "metadata": {},
   "outputs": [],
   "source": [
    "x = data.drop(['target'],axis=1)\n",
    "y = data['target']"
   ]
  },
  {
   "cell_type": "code",
   "execution_count": 115,
   "metadata": {},
   "outputs": [],
   "source": [
    "from sklearn.model_selection import train_test_split\n",
    "\n",
    "x_train,x_test,y_train,y_test = train_test_split(x,y, random_state=101, test_size=0.2)"
   ]
  },
  {
   "cell_type": "markdown",
   "metadata": {},
   "source": [
    " "
   ]
  },
  {
   "cell_type": "markdown",
   "metadata": {},
   "source": [
    "### GridsearchCV"
   ]
  },
  {
   "cell_type": "code",
   "execution_count": 116,
   "metadata": {},
   "outputs": [],
   "source": [
    "from sklearn.neighbors import KNeighborsClassifier\n",
    "from xgboost import XGBClassifier\n",
    "from sklearn.ensemble import RandomForestClassifier\n",
    "from sklearn.model_selection import GridSearchCV\n",
    "from sklearn.metrics import classification_report"
   ]
  },
  {
   "cell_type": "code",
   "execution_count": 117,
   "metadata": {},
   "outputs": [],
   "source": [
    "x_train, x_val, y_train, y_val = train_test_split(x,y, test_size=0.3)"
   ]
  },
  {
   "cell_type": "code",
   "execution_count": 118,
   "metadata": {},
   "outputs": [],
   "source": [
    "def searchCV(parameters,\n",
    "    scores,\n",
    "    x_train, \n",
    "    x_val,\n",
    "    y_train,\n",
    "    y_val,\n",
    "    modelType = 'KNN' ):\n",
    "    \n",
    "    for score in scores:\n",
    "        print ('Hyper parameter tuning for {}'.format(score ))\n",
    "        if modelType == 'KNN':\n",
    "            model = GridSearchCV(KNeighborsClassifier(),\n",
    "                                parameters,\n",
    "                                scoring = score)\n",
    "        elif modelType == 'RF':\n",
    "            model = GridSearchCV(RandomForestClassifier(),\n",
    "                                parameters,\n",
    "                                scoring=score)\n",
    "        elif modelType == 'XGB':\n",
    "            model = GridSearchCV(XGBClassifier(),\n",
    "                                parameters,\n",
    "                                scoring=score)\n",
    "            \n",
    "        model.fit(x_train,y_train)\n",
    "        print ('The Best Parameters are:')\n",
    "        print (model.best_params_)\n",
    "        print ('Grid score on development set:')\n",
    "        \n",
    "        mean = model.cv_results_['mean_test_score']\n",
    "        std = model.cv_results_['std_test_score']\n",
    "        \n",
    "        \n",
    "        for mean, std, params in zip(mean, std, model.cv_results_['params']):\n",
    "            print(\"%0.3f (+/-%0.03f) for %r\" % (mean, std * 2, params))\n",
    "    \n",
    "        print(\"Detailed classification report:\")\n",
    "        y_true, y_pred = y_val, model.predict(x_val)\n",
    "        print(classification_report(y_true, y_pred))"
   ]
  },
  {
   "cell_type": "markdown",
   "metadata": {},
   "source": [
    "### For KNN"
   ]
  },
  {
   "cell_type": "code",
   "execution_count": 119,
   "metadata": {},
   "outputs": [],
   "source": [
    "parameters = [{\"n_neighbors\": [3,5,7],\n",
    "                \"weights\": [\"uniform\", \"distance\"],\n",
    "                \"p\": [1,2]}]\n",
    "\n",
    "scores = [\"accuracy\",\"precision_macro\",\"recall_macro\"]\n"
   ]
  },
  {
   "cell_type": "code",
   "execution_count": 120,
   "metadata": {},
   "outputs": [
    {
     "name": "stdout",
     "output_type": "stream",
     "text": [
      "Hyper parameter tuning for accuracy\n",
      "The Best Parameters are:\n",
      "{'n_neighbors': 7, 'p': 1, 'weights': 'uniform'}\n",
      "Grid score on development set:\n",
      "0.675 (+/-0.127) for {'n_neighbors': 3, 'p': 1, 'weights': 'uniform'}\n",
      "0.675 (+/-0.127) for {'n_neighbors': 3, 'p': 1, 'weights': 'distance'}\n",
      "0.661 (+/-0.093) for {'n_neighbors': 3, 'p': 2, 'weights': 'uniform'}\n",
      "0.665 (+/-0.078) for {'n_neighbors': 3, 'p': 2, 'weights': 'distance'}\n",
      "0.694 (+/-0.094) for {'n_neighbors': 5, 'p': 1, 'weights': 'uniform'}\n",
      "0.698 (+/-0.104) for {'n_neighbors': 5, 'p': 1, 'weights': 'distance'}\n",
      "0.675 (+/-0.153) for {'n_neighbors': 5, 'p': 2, 'weights': 'uniform'}\n",
      "0.679 (+/-0.120) for {'n_neighbors': 5, 'p': 2, 'weights': 'distance'}\n",
      "0.736 (+/-0.137) for {'n_neighbors': 7, 'p': 1, 'weights': 'uniform'}\n",
      "0.722 (+/-0.131) for {'n_neighbors': 7, 'p': 1, 'weights': 'distance'}\n",
      "0.694 (+/-0.140) for {'n_neighbors': 7, 'p': 2, 'weights': 'uniform'}\n",
      "0.699 (+/-0.132) for {'n_neighbors': 7, 'p': 2, 'weights': 'distance'}\n",
      "Detailed classification report:\n",
      "              precision    recall  f1-score   support\n",
      "\n",
      "           0       0.60      0.43      0.50        42\n",
      "           1       0.61      0.76      0.67        49\n",
      "\n",
      "    accuracy                           0.60        91\n",
      "   macro avg       0.60      0.59      0.59        91\n",
      "weighted avg       0.60      0.60      0.59        91\n",
      "\n",
      "Hyper parameter tuning for precision_macro\n",
      "The Best Parameters are:\n",
      "{'n_neighbors': 7, 'p': 1, 'weights': 'uniform'}\n",
      "Grid score on development set:\n",
      "0.673 (+/-0.131) for {'n_neighbors': 3, 'p': 1, 'weights': 'uniform'}\n",
      "0.673 (+/-0.131) for {'n_neighbors': 3, 'p': 1, 'weights': 'distance'}\n",
      "0.659 (+/-0.095) for {'n_neighbors': 3, 'p': 2, 'weights': 'uniform'}\n",
      "0.663 (+/-0.079) for {'n_neighbors': 3, 'p': 2, 'weights': 'distance'}\n",
      "0.692 (+/-0.096) for {'n_neighbors': 5, 'p': 1, 'weights': 'uniform'}\n",
      "0.698 (+/-0.109) for {'n_neighbors': 5, 'p': 1, 'weights': 'distance'}\n",
      "0.672 (+/-0.157) for {'n_neighbors': 5, 'p': 2, 'weights': 'uniform'}\n",
      "0.678 (+/-0.120) for {'n_neighbors': 5, 'p': 2, 'weights': 'distance'}\n",
      "0.736 (+/-0.133) for {'n_neighbors': 7, 'p': 1, 'weights': 'uniform'}\n",
      "0.722 (+/-0.129) for {'n_neighbors': 7, 'p': 1, 'weights': 'distance'}\n",
      "0.696 (+/-0.147) for {'n_neighbors': 7, 'p': 2, 'weights': 'uniform'}\n",
      "0.699 (+/-0.135) for {'n_neighbors': 7, 'p': 2, 'weights': 'distance'}\n",
      "Detailed classification report:\n",
      "              precision    recall  f1-score   support\n",
      "\n",
      "           0       0.60      0.43      0.50        42\n",
      "           1       0.61      0.76      0.67        49\n",
      "\n",
      "    accuracy                           0.60        91\n",
      "   macro avg       0.60      0.59      0.59        91\n",
      "weighted avg       0.60      0.60      0.59        91\n",
      "\n",
      "Hyper parameter tuning for recall_macro\n",
      "The Best Parameters are:\n",
      "{'n_neighbors': 7, 'p': 1, 'weights': 'uniform'}\n",
      "Grid score on development set:\n",
      "0.670 (+/-0.138) for {'n_neighbors': 3, 'p': 1, 'weights': 'uniform'}\n",
      "0.670 (+/-0.138) for {'n_neighbors': 3, 'p': 1, 'weights': 'distance'}\n",
      "0.658 (+/-0.098) for {'n_neighbors': 3, 'p': 2, 'weights': 'uniform'}\n",
      "0.663 (+/-0.082) for {'n_neighbors': 3, 'p': 2, 'weights': 'distance'}\n",
      "0.692 (+/-0.100) for {'n_neighbors': 5, 'p': 1, 'weights': 'uniform'}\n",
      "0.697 (+/-0.112) for {'n_neighbors': 5, 'p': 1, 'weights': 'distance'}\n",
      "0.669 (+/-0.156) for {'n_neighbors': 5, 'p': 2, 'weights': 'uniform'}\n",
      "0.675 (+/-0.123) for {'n_neighbors': 5, 'p': 2, 'weights': 'distance'}\n",
      "0.731 (+/-0.143) for {'n_neighbors': 7, 'p': 1, 'weights': 'uniform'}\n",
      "0.717 (+/-0.137) for {'n_neighbors': 7, 'p': 1, 'weights': 'distance'}\n",
      "0.689 (+/-0.155) for {'n_neighbors': 7, 'p': 2, 'weights': 'uniform'}\n",
      "0.694 (+/-0.147) for {'n_neighbors': 7, 'p': 2, 'weights': 'distance'}\n",
      "Detailed classification report:\n",
      "              precision    recall  f1-score   support\n",
      "\n",
      "           0       0.60      0.43      0.50        42\n",
      "           1       0.61      0.76      0.67        49\n",
      "\n",
      "    accuracy                           0.60        91\n",
      "   macro avg       0.60      0.59      0.59        91\n",
      "weighted avg       0.60      0.60      0.59        91\n",
      "\n"
     ]
    }
   ],
   "source": [
    "searchCV(parameters, scores, x_train , x_val, y_train, y_val)"
   ]
  },
  {
   "cell_type": "markdown",
   "metadata": {},
   "source": [
    "### For XGBOOST"
   ]
  },
  {
   "cell_type": "code",
   "execution_count": 121,
   "metadata": {},
   "outputs": [
    {
     "name": "stdout",
     "output_type": "stream",
     "text": [
      "Hyper parameter tuning for accuracy\n",
      "The Best Parameters are:\n",
      "{'colsample_bytree': 0.8, 'min_child_weight': 10}\n",
      "Grid score on development set:\n",
      "0.793 (+/-0.108) for {'colsample_bytree': 0.6, 'min_child_weight': 5}\n",
      "0.803 (+/-0.143) for {'colsample_bytree': 0.6, 'min_child_weight': 10}\n",
      "0.784 (+/-0.119) for {'colsample_bytree': 0.8, 'min_child_weight': 5}\n",
      "0.812 (+/-0.145) for {'colsample_bytree': 0.8, 'min_child_weight': 10}\n",
      "Detailed classification report:\n",
      "              precision    recall  f1-score   support\n",
      "\n",
      "           0       0.84      0.74      0.78        42\n",
      "           1       0.80      0.88      0.83        49\n",
      "\n",
      "    accuracy                           0.81        91\n",
      "   macro avg       0.82      0.81      0.81        91\n",
      "weighted avg       0.82      0.81      0.81        91\n",
      "\n",
      "Hyper parameter tuning for precision_macro\n",
      "The Best Parameters are:\n",
      "{'colsample_bytree': 0.8, 'min_child_weight': 10}\n",
      "Grid score on development set:\n",
      "0.799 (+/-0.105) for {'colsample_bytree': 0.6, 'min_child_weight': 5}\n",
      "0.808 (+/-0.140) for {'colsample_bytree': 0.6, 'min_child_weight': 10}\n",
      "0.791 (+/-0.116) for {'colsample_bytree': 0.8, 'min_child_weight': 5}\n",
      "0.819 (+/-0.143) for {'colsample_bytree': 0.8, 'min_child_weight': 10}\n",
      "Detailed classification report:\n",
      "              precision    recall  f1-score   support\n",
      "\n",
      "           0       0.84      0.74      0.78        42\n",
      "           1       0.80      0.88      0.83        49\n",
      "\n",
      "    accuracy                           0.81        91\n",
      "   macro avg       0.82      0.81      0.81        91\n",
      "weighted avg       0.82      0.81      0.81        91\n",
      "\n",
      "Hyper parameter tuning for recall_macro\n",
      "The Best Parameters are:\n",
      "{'colsample_bytree': 0.8, 'min_child_weight': 10}\n",
      "Grid score on development set:\n",
      "0.791 (+/-0.107) for {'colsample_bytree': 0.6, 'min_child_weight': 5}\n",
      "0.802 (+/-0.139) for {'colsample_bytree': 0.6, 'min_child_weight': 10}\n",
      "0.783 (+/-0.115) for {'colsample_bytree': 0.8, 'min_child_weight': 5}\n",
      "0.810 (+/-0.139) for {'colsample_bytree': 0.8, 'min_child_weight': 10}\n",
      "Detailed classification report:\n",
      "              precision    recall  f1-score   support\n",
      "\n",
      "           0       0.84      0.74      0.78        42\n",
      "           1       0.80      0.88      0.83        49\n",
      "\n",
      "    accuracy                           0.81        91\n",
      "   macro avg       0.82      0.81      0.81        91\n",
      "weighted avg       0.82      0.81      0.81        91\n",
      "\n"
     ]
    }
   ],
   "source": [
    "parameters = [{\"min_child_weight\": [5, 10],\n",
    "                \"colsample_bytree\": [0.6, 0.8]}]\n",
    "scores = [\"accuracy\",\"precision_macro\",\"recall_macro\"]\n",
    "searchCV(parameters,\n",
    "        scores,\n",
    "        x_train,\n",
    "        x_val,\n",
    "        y_train,\n",
    "        y_val,\n",
    "        modelType = \"XGB\")"
   ]
  },
  {
   "cell_type": "markdown",
   "metadata": {},
   "source": [
    "### For RandomForest"
   ]
  },
  {
   "cell_type": "code",
   "execution_count": 93,
   "metadata": {},
   "outputs": [
    {
     "name": "stdout",
     "output_type": "stream",
     "text": [
      "Hyper parameter tuning for accuracy\n",
      "The Best Parameters are:\n",
      "{'criterion': 'gini', 'max_features': 'auto', 'n_estimators': 50}\n",
      "Grid score on development set:\n",
      "0.779 (+/-0.086) for {'criterion': 'gini', 'max_features': 'auto', 'n_estimators': 10}\n",
      "0.825 (+/-0.071) for {'criterion': 'gini', 'max_features': 'auto', 'n_estimators': 50}\n",
      "0.816 (+/-0.131) for {'criterion': 'gini', 'max_features': 'auto', 'n_estimators': 100}\n",
      "0.806 (+/-0.114) for {'criterion': 'gini', 'max_features': 'sqrt', 'n_estimators': 10}\n",
      "0.821 (+/-0.097) for {'criterion': 'gini', 'max_features': 'sqrt', 'n_estimators': 50}\n",
      "0.811 (+/-0.090) for {'criterion': 'gini', 'max_features': 'sqrt', 'n_estimators': 100}\n",
      "0.821 (+/-0.128) for {'criterion': 'gini', 'max_features': 'log2', 'n_estimators': 10}\n",
      "0.797 (+/-0.105) for {'criterion': 'gini', 'max_features': 'log2', 'n_estimators': 50}\n",
      "0.811 (+/-0.083) for {'criterion': 'gini', 'max_features': 'log2', 'n_estimators': 100}\n",
      "0.778 (+/-0.104) for {'criterion': 'entropy', 'max_features': 'auto', 'n_estimators': 10}\n",
      "0.825 (+/-0.071) for {'criterion': 'entropy', 'max_features': 'auto', 'n_estimators': 50}\n",
      "0.806 (+/-0.109) for {'criterion': 'entropy', 'max_features': 'auto', 'n_estimators': 100}\n",
      "0.811 (+/-0.115) for {'criterion': 'entropy', 'max_features': 'sqrt', 'n_estimators': 10}\n",
      "0.807 (+/-0.153) for {'criterion': 'entropy', 'max_features': 'sqrt', 'n_estimators': 50}\n",
      "0.816 (+/-0.144) for {'criterion': 'entropy', 'max_features': 'sqrt', 'n_estimators': 100}\n",
      "0.769 (+/-0.120) for {'criterion': 'entropy', 'max_features': 'log2', 'n_estimators': 10}\n",
      "0.806 (+/-0.141) for {'criterion': 'entropy', 'max_features': 'log2', 'n_estimators': 50}\n",
      "0.821 (+/-0.097) for {'criterion': 'entropy', 'max_features': 'log2', 'n_estimators': 100}\n",
      "Detailed classification report:\n",
      "              precision    recall  f1-score   support\n",
      "\n",
      "           0       0.91      0.74      0.82        43\n",
      "           1       0.80      0.94      0.87        48\n",
      "\n",
      "    accuracy                           0.85        91\n",
      "   macro avg       0.86      0.84      0.84        91\n",
      "weighted avg       0.86      0.85      0.84        91\n",
      "\n"
     ]
    }
   ],
   "source": [
    "parameters = [{\"n_estimators\": [10, 50, 100],\n",
    "                \"criterion\": [\"gini\", \"entropy\"],\n",
    "                \"max_features\": [\"auto\", \"sqrt\", \"log2\"]}]\n",
    "\n",
    "scores = [\"accuracy\"]\n",
    "\n",
    "searchCV(parameters,\n",
    "        scores,\n",
    "        x_train,\n",
    "        x_val,\n",
    "        y_train,\n",
    "        y_val,\n",
    "        modelType = \"RF\")"
   ]
  },
  {
   "cell_type": "markdown",
   "metadata": {},
   "source": [
    "### Model"
   ]
  },
  {
   "cell_type": "code",
   "execution_count": 122,
   "metadata": {},
   "outputs": [
    {
     "data": {
      "text/plain": [
       "0.819672131147541"
      ]
     },
     "execution_count": 122,
     "metadata": {},
     "output_type": "execute_result"
    }
   ],
   "source": [
    "model = XGBClassifier(colsample_bytree = 0.8, min_child_weight = 10)\n",
    "model.fit(x_train,y_train)\n",
    "model.score(x_test,y_test)"
   ]
  },
  {
   "cell_type": "code",
   "execution_count": 124,
   "metadata": {},
   "outputs": [],
   "source": [
    "prediction = model.predict(x_test)"
   ]
  },
  {
   "cell_type": "code",
   "execution_count": 127,
   "metadata": {},
   "outputs": [
    {
     "name": "stdout",
     "output_type": "stream",
     "text": [
      "              precision    recall  f1-score   support\n",
      "\n",
      "           0       0.88      0.74      0.81        31\n",
      "           1       0.77      0.90      0.83        30\n",
      "\n",
      "    accuracy                           0.82        61\n",
      "   macro avg       0.83      0.82      0.82        61\n",
      "weighted avg       0.83      0.82      0.82        61\n",
      "\n"
     ]
    }
   ],
   "source": [
    " print(classification_report(y_test, prediction))"
   ]
  },
  {
   "cell_type": "code",
   "execution_count": null,
   "metadata": {},
   "outputs": [],
   "source": []
  }
 ],
 "metadata": {
  "kernelspec": {
   "display_name": "Python 3",
   "language": "python",
   "name": "python3"
  },
  "language_info": {
   "codemirror_mode": {
    "name": "ipython",
    "version": 3
   },
   "file_extension": ".py",
   "mimetype": "text/x-python",
   "name": "python",
   "nbconvert_exporter": "python",
   "pygments_lexer": "ipython3",
   "version": "3.7.6"
  }
 },
 "nbformat": 4,
 "nbformat_minor": 4
}
